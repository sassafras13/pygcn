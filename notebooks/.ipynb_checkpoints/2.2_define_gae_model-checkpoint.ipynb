{
 "cells": [
  {
   "cell_type": "markdown",
   "id": "30ad218c-bcd7-441c-81b7-b400e26d93a0",
   "metadata": {},
   "source": [
    "# Define My GAE Model\n",
    "\n",
    "Now that I've gone through and taught myself how the GAE model works, its time to build my own. Here I will define the following: \n",
    "\n",
    "- [ ] GCN layer\n",
    "- [ ] GAE architecture\n",
    "- [ ] GAE training loop\n",
    "\n",
    "I will get all of this to run and show that I can do training on a simple dataset. "
   ]
  },
  {
   "cell_type": "markdown",
   "id": "cea1447c-d754-4ff8-a31f-efa882ad229c",
   "metadata": {},
   "source": [
    "## GCN Layer\n",
    "\n",
    "I am copying tkipf/pygcn module."
   ]
  },
  {
   "cell_type": "code",
   "execution_count": 64,
   "id": "8667a1cd-572f-4d4a-a7c7-ff2e52eabbbb",
   "metadata": {},
   "outputs": [],
   "source": [
    "import math\n",
    "import torch\n",
    "from torch.nn.parameter import Parameter # this is a kind of tensor that is automatically considered as the parameter of a class/module\n",
    "from torch.nn.modules.module import Module # torch base class for all NN modules, always inherit from here\n",
    "\n",
    "\n",
    "class GraphConvolution(Module):\n",
    "    \"\"\"\n",
    "    Simple GCN layer, similar to https://arxiv.org/abs/1609.02907\n",
    "    \"\"\"\n",
    "\n",
    "    def __init__(self, in_features, out_features, bias=True):\n",
    "        # according to: https://discuss.pytorch.org/t/super-model-in-init/97426\n",
    "        # The super call delegates the function call to the parent class, \n",
    "        # which is nn.Module in your case. \n",
    "        # This is needed to initialize the nn.Module properly. \n",
    "        # from: https://realpython.com/python-super/\n",
    "        # high level super() gives you access to methods in a superclass \n",
    "        # from the subclass that inherits from it\n",
    "        # and from: https://medium.com/@ariellemesser/pytorch-nn-module-super-classes-sub-classes-inheritance-and-call-speci-3cc277407ff5\n",
    "        # In the super class, nn.Module, there is a __call__ method which \n",
    "        # obtains the forward function from the subclass and calls it.\n",
    "        super(GraphConvolution, self).__init__()\n",
    "        self.in_features = in_features\n",
    "        self.out_features = out_features\n",
    "#         self.weight = Parameter(torch.FloatTensor(in_features, out_features)) # requires_grad = True by default\n",
    "        self.weight = Parameter(torch.DoubleTensor(in_features, out_features)) # requires_grad = True by default\n",
    "        print(\"self.weight\", self.weight.dtype)\n",
    "        # TODO: add Glorot initialization here\n",
    "        if bias:\n",
    "#             self.bias = Parameter(torch.FloatTensor(out_features)) # why wouldn't you have bias?\n",
    "            self.bias = Parameter(torch.DoubleTensor(out_features)) # why wouldn't you have bias?\n",
    "            print(\"bias\", self.bias.dtype)\n",
    "        else:\n",
    "            self.register_parameter('bias', None)\n",
    "        self.reset_parameters()\n",
    "\n",
    "    # we define the reset_parameters method\n",
    "    def reset_parameters(self):\n",
    "        # why are we using the size of the weight matrix to compute std dev? \n",
    "        # self.weight.size(1) = Nhid for W0, Nlatent for W1\n",
    "        # this expression is essentially assuming that the squared residual between the data and \n",
    "        # the mean is 1, and the number of data points in the sample is Nhid or Nlatent\n",
    "        stdv = 1. / math.sqrt(self.weight.size(1)) \n",
    "        self.weight.data.uniform_(-stdv, stdv)\n",
    "        if self.bias is not None:\n",
    "            self.bias.data.uniform_(-stdv, stdv)\n",
    "\n",
    "    def forward(self, input, adj):\n",
    "        # together, support and output are computing\n",
    "        # A_tilde * X * W by doing\n",
    "        # support = X * W\n",
    "        # output = A_tilde * support = A_tilde * X * W\n",
    "        print(\"type for input\", input.dtype)\n",
    "        print(\"type for self.weight\", self.weight.dtype)\n",
    "        print(\"shape of input\", input.shape)\n",
    "        print(\"shape of self.weight\", self.weight.shape)\n",
    "        support = torch.mm(input, self.weight) # mat mul\n",
    "        print(\"shape of support\", support.shape)\n",
    "        print(\"shape of adj\", adj.shape)\n",
    "        output = torch.spmm(adj, support) # sparse mat mul\n",
    "        if self.bias is not None:\n",
    "            return output + self.bias\n",
    "        else:\n",
    "            return output\n",
    "\n",
    "    def __repr__(self):\n",
    "        return self.__class__.__name__ + ' (' \\\n",
    "               + str(self.in_features) + ' -> ' \\\n",
    "               + str(self.out_features) + ')'"
   ]
  },
  {
   "cell_type": "markdown",
   "id": "aab70389-7f63-4700-a4c2-834eafe82308",
   "metadata": {},
   "source": [
    "## GAE Architecture\n",
    "\n",
    "Starting with tkipf/pygcn and augmenting with DaehanKim/vgae-pytorch where necessary."
   ]
  },
  {
   "cell_type": "code",
   "execution_count": 57,
   "id": "d1398530-f846-4008-b367-8ddb64c2f953",
   "metadata": {},
   "outputs": [],
   "source": [
    "import torch.nn as nn\n",
    "import torch.nn.functional as F\n",
    "\n",
    "class GAE(nn.Module):\n",
    "    def __init__(self, nfeat, nhid, nclass, dropout):\n",
    "        super(GAE, self).__init__()\n",
    "\n",
    "        self.gc1 = GraphConvolution(nfeat, nhid)\n",
    "        self.gc2 = GraphConvolution(nhid, nclass)\n",
    "        self.dropout = dropout\n",
    "\n",
    "    def encode(self, X, adj):\n",
    "        X = F.relu(self.gc1(X, adj)) # notice that the ReLU is applied outside of the GCN layer definition\n",
    "        X = F.dropout(X, self.dropout, training=self.training) # does vgae-pytorch use dropout? --> NO\n",
    "        Z = self.gc2(X, adj) # we do not use log_softmax on output of GAE, why?\n",
    "#         return F.log_softmax(x, dim=1) # note that the final output is using log-softmax\n",
    "        return Z\n",
    "\n",
    "    def forward(self, X, adj):\n",
    "        Z = self.encode(X, adj)\n",
    "        A_pred = dot_product_decode(Z)\n",
    "        return A_pred"
   ]
  },
  {
   "cell_type": "code",
   "execution_count": 49,
   "id": "8aaab4b5-fd8d-4412-9db5-96f50916179a",
   "metadata": {},
   "outputs": [],
   "source": [
    "def dot_product_decode(Z):\n",
    "    # the prediction itself is the sigmoid of the product of Z*Z.T \n",
    "\tA_pred = torch.sigmoid(torch.matmul(Z,Z.t()))\n",
    "\treturn A_pred"
   ]
  },
  {
   "cell_type": "markdown",
   "id": "6470cfe5-e160-4ead-b3f0-3f2bd9928e1e",
   "metadata": {},
   "source": [
    "## GAE Training Loop\n",
    "\n",
    "Pulled from DaehanKim/vgae-pytorch and modified for our use. "
   ]
  },
  {
   "cell_type": "markdown",
   "id": "0983100d-1008-492f-a788-a0766ceaa82f",
   "metadata": {},
   "source": [
    "### Create Matrices with Dataset Class"
   ]
  },
  {
   "cell_type": "code",
   "execution_count": 8,
   "id": "5c713bd9-c852-4c51-abf4-1943fe75ddc4",
   "metadata": {},
   "outputs": [],
   "source": [
    "import numpy as np\n",
    "import scipy.sparse as sp\n",
    "from scipy.linalg import sqrtm\n",
    "import torch\n",
    "import matplotlib.pyplot as plt\n",
    "from torchvision import transforms\n",
    "from torch.utils.data import Dataset\n",
    "import time as time\n",
    "import os\n",
    "from torch.utils.data import DataLoader"
   ]
  },
  {
   "cell_type": "code",
   "execution_count": 66,
   "id": "43df5512-5096-4a4c-926b-7e503917aefd",
   "metadata": {},
   "outputs": [],
   "source": [
    "class Img2Graph(object):\n",
    "    def __init__(self):\n",
    "        pass\n",
    "\n",
    "    def __call__(self, sample): # a sample is one image\n",
    "        \n",
    "        # add a channel that assigns a unique ID to every pixel\n",
    "        sample = self._add_unique_ids(sample)\n",
    "        \n",
    "        # find the IDs of the nonzero pixels \n",
    "        # idx_nonzero is a tuple of length 2, each entry in the tuple is the list of coordinates in one dimension\n",
    "        idx_nonzero = np.nonzero(sample[0,:,:])\n",
    "        row_coords = idx_nonzero[0]\n",
    "        col_coords = idx_nonzero[1]\n",
    "\n",
    "        # add the 3 channels of data for these nonzero pixels to a matrix for X\n",
    "        X = self._build_X(sample, row_coords, col_coords)\n",
    "\n",
    "        A_dict = self._build_A_dict(sample, row_coords, col_coords)\n",
    "        \n",
    "        A = self._convert_to_matrix(sample, A_dict)\n",
    "        \n",
    "        A = self._make_A_symmetric(A)\n",
    "        \n",
    "        A_tilde = self._normalize(A)\n",
    "        \n",
    "        return X, A_tilde\n",
    "    \n",
    "    def _add_unique_ids(self, sample):\n",
    "        hei = sample.shape[1]\n",
    "        wid = sample.shape[2]\n",
    "\n",
    "        num_pixels = hei * wid\n",
    "        id_array = np.ones((hei*wid,))\n",
    "        for i in range(num_pixels):\n",
    "            id_array[i] = i \n",
    "        id_array = id_array.reshape((1, hei, wid))\n",
    "\n",
    "        # add unique indices as 4th channel\n",
    "        sample = np.concatenate((sample, id_array), axis=0)\n",
    "        return sample\n",
    "\n",
    "    def _build_X(self, sample, row_coords, col_coords):\n",
    "        num_features = sample.shape[0]-1 # -1 because one of the channels is just a unique id we assigned\n",
    "        X = np.zeros((sample.shape[1]*sample.shape[2], num_features)) \n",
    "        nonzero_entries = []\n",
    "        \n",
    "        for i in range(row_coords.shape[0]):\n",
    "            for j in range(col_coords.shape[0]):\n",
    "                # TODO: am I sure this iteration is correct?\n",
    "                key = int(sample[3, row_coords[i], col_coords[j]])\n",
    "                X[key, :] = sample[:3, row_coords[i], col_coords[j]]\n",
    "            \n",
    "        return X\n",
    "    \n",
    "    def _build_A_dict(self, sample, row_coords, col_coords):\n",
    "        A_dict = {}\n",
    "        for i in range(row_coords.shape[0]):\n",
    "            for j in range(col_coords.shape[0]):\n",
    "                # TODO: am I sure this iteration is correct?\n",
    "\n",
    "                # add these IDs of nonzero pixels as keys to dictionary\n",
    "                key = sample[3, row_coords[i], col_coords[j]]\n",
    "\n",
    "                # get x and y indices of i-th nonzero pixel\n",
    "                x = col_coords[j]\n",
    "                y = row_coords[i]\n",
    "\n",
    "                # look for pixels that are nonzero and adjacent \n",
    "                # define the search range\n",
    "                col_min = x-1\n",
    "                col_max = x+1\n",
    "                row_min = y-1\n",
    "                row_max = y+1\n",
    "\n",
    "                # the queries for finding values in search range\n",
    "                col_query = (col_coords >= col_min) & (col_coords <= col_max)\n",
    "                row_query = (row_coords >= row_min) & (row_coords <= row_max)\n",
    "\n",
    "                # get indices of nonzero entries that fit search criteria for either x or y position\n",
    "                idx_in_col_range = np.where(col_query)\n",
    "                idx_in_row_range = np.where(row_query)\n",
    "\n",
    "                # find the intersection of nonzero entries that fit search criteria for both x and y position\n",
    "                overlap = np.intersect1d(idx_in_col_range, idx_in_row_range)\n",
    "\n",
    "                # get row and column indices of nonzero entries that fit both search criteria\n",
    "                common_idx_in_col_range = col_coords[overlap]\n",
    "                common_idx_in_row_range = row_coords[overlap]\n",
    "\n",
    "                # use row and column indices of nonzero entries to get unique ids\n",
    "                unique_id_in_col_and_row_range = sample[3, common_idx_in_row_range, common_idx_in_col_range]\n",
    "\n",
    "                # if there are adjacent pixels, add the unique IDs of those pixels as values to that key\n",
    "                A_dict[key] = list(unique_id_in_col_and_row_range)\n",
    "\n",
    "        return A_dict\n",
    "    \n",
    "    def _convert_to_matrix(self, sample, A_dict):\n",
    "        # convert the A dictionary to tensor\n",
    "        A_sparse = sp.dok_matrix((sample.shape[1]*sample.shape[2], sample.shape[1]*sample.shape[2]))\n",
    "        for key, values in A_dict.items():\n",
    "            for val in values: \n",
    "                # get x and y position of unique id\n",
    "#                 x = int(np.where(sample[3,:,:] == val)[0])\n",
    "#                 y = int(np.where(sample[3,:,:] == val)[1])\n",
    "                A_sparse[key, val] = 1\n",
    "\n",
    "        A_dense = np.asarray(A_sparse.todense())\n",
    "        return A_dense\n",
    "    \n",
    "    def _make_A_symmetric(self, A):\n",
    "        # build symmetric adjacency matrix\n",
    "        # ref: https://github.com/tkipf/pygcn/issues/3\n",
    "        # adj is populated with 0's and 1's\n",
    "        # if adj.T > adj then one of those entries is 0\n",
    "        # therefore by multiplying them together, we get 0\n",
    "        # the + (*) and - (*) terms where * = adj.T.multiply(adj.T > adj)\n",
    "        # are for removing directed edges so that we are left with\n",
    "        # an UNDIRECTED graph (i.e. edges are bidirectional)\n",
    "        A = A + np.multiply(A.T, (A.T > A)) - np.multiply(A, (A.T > A))\n",
    "        \n",
    "        # add 1's along the diagonal of A\n",
    "        A = A + np.eye(A.shape[0])\n",
    "        return A\n",
    "    \n",
    "    def _normalize(self, A):\n",
    "        rowsum = A.sum(axis=0)\n",
    "        D = np.diagflat(rowsum)\n",
    "        D_inv = np.linalg.inv(sqrtm(D))\n",
    "        A_tilde = D_inv.T @ A @ D_inv\n",
    "        return A_tilde"
   ]
  },
  {
   "cell_type": "code",
   "execution_count": 67,
   "id": "dde7ba2f-d847-4ad6-99fe-64543ff4b0bf",
   "metadata": {},
   "outputs": [
    {
     "name": "stdout",
     "output_type": "stream",
     "text": [
      "(3, 32, 32)\n"
     ]
    }
   ],
   "source": [
    "input_dir = \"/mnt/resource/staging/patched/smoke_data_sa_all/flattened_filtered_data/intensity_all\" # this dir contains 75_386 samples!\n",
    "filename = \"xmin_0500_xmax_0532_ymin_0500_ymax_0532_t00001.npy\"\n",
    "myfile = np.load(\"{}/{}\".format(input_dir, filename))\n",
    "print(myfile.shape)"
   ]
  },
  {
   "cell_type": "code",
   "execution_count": 70,
   "id": "3b5bdb8c-2842-4d8b-b017-35faef10112a",
   "metadata": {},
   "outputs": [
    {
     "data": {
      "text/plain": [
       "<matplotlib.colorbar.Colorbar at 0x7f2bbab577f0>"
      ]
     },
     "execution_count": 70,
     "metadata": {},
     "output_type": "execute_result"
    },
    {
     "data": {
      "image/png": "[encoded data removed]",
      "text/plain": [
       "<Figure size 432x288 with 2 Axes>"
      ]
     },
     "metadata": {
      "needs_background": "light"
     },
     "output_type": "display_data"
    }
   ],
   "source": [
    "transform = Img2Graph()\n",
    "X, A_tilde = transform(myfile)\n",
    "plt.imshow(A_tilde[:50,:50])\n",
    "# plt.imshow(A_tilde)\n",
    "plt.colorbar()"
   ]
  },
  {
   "cell_type": "code",
   "execution_count": 71,
   "id": "7deeab0e-5cb5-4b47-8689-c9e677cd5326",
   "metadata": {},
   "outputs": [],
   "source": [
    "# Reads npy data\n",
    "class DatasetGraph(Dataset):\n",
    "    def __init__(\n",
    "        self,\n",
    "        input_dir,\n",
    "        annotations_dir=None,\n",
    "        transform=None,\n",
    "        target_transform=None,\n",
    "    ):\n",
    "        start = time.time()\n",
    "        self.input_dir = input_dir\n",
    "        self.annotations_dir = annotations_dir\n",
    "        # transformation is Identity transformation if transformation is None.\n",
    "        self.transform = (lambda x: x) if transform is None else transform\n",
    "        self.target_transform = target_transform\n",
    "        self.input_files = sorted(os.listdir(self.input_dir))\n",
    "\n",
    "    def __len__(self):\n",
    "        return len(self.input_files)\n",
    "\n",
    "    def __getitem__(self, idx):\n",
    "        input_path = os.path.join(self.input_dir, self.input_files[idx])\n",
    "        input_X = torch.from_numpy(np.load(input_path))\n",
    "        \n",
    "        if len(input_X.shape) == 2:\n",
    "            input_X = input_X.unsqueeze(axis=0)\n",
    "        \n",
    "        if self.transform:\n",
    "            X, A_tilde = self.transform(input_X)\n",
    "\n",
    "        # Ground truth if exists - we might use L1-ish data\n",
    "        if self.annotations_dir is not None:\n",
    "            annotations_path = os.path.join(\n",
    "                self.annotations_dir, os.listdir(self.annotations_dir)[idx]\n",
    "            )\n",
    "            input_y = torch.load(annotations_path)\n",
    "        elif input_X.shape[-1] == 6:\n",
    "            input_y = input_X[:, :, :, -1]\n",
    "        else:\n",
    "            input_y = -1  # not using input_y\n",
    "\n",
    "        return A_tilde, X, input_y # TODO: HOW TO EXPORT FEATURE MATRIX TOO?"
   ]
  },
  {
   "cell_type": "code",
   "execution_count": 72,
   "id": "bd70a730-fbfa-45ef-a2e8-8055aa3bfa40",
   "metadata": {},
   "outputs": [],
   "source": [
    "graph_dataset = DatasetGraph(input_dir=input_dir, transform=Img2Graph())"
   ]
  },
  {
   "cell_type": "code",
   "execution_count": 73,
   "id": "577e4091-d3e8-422f-99f7-4b39432d6f5b",
   "metadata": {},
   "outputs": [
    {
     "data": {
      "text/plain": [
       "<matplotlib.colorbar.Colorbar at 0x7f2bb7d74cd0>"
      ]
     },
     "execution_count": 73,
     "metadata": {},
     "output_type": "execute_result"
    },
    {
     "data": {
      "image/png": "[encoded data removed]",
      "text/plain": [
       "<Figure size 432x288 with 2 Axes>"
      ]
     },
     "metadata": {
      "needs_background": "light"
     },
     "output_type": "display_data"
    }
   ],
   "source": [
    "rand_sample_num = 13\n",
    "plt.imshow(graph_dataset[rand_sample_num][0])\n",
    "plt.colorbar()"
   ]
  },
  {
   "cell_type": "code",
   "execution_count": 74,
   "id": "41b460ef-464b-4756-99e6-15fc69e0f1b0",
   "metadata": {},
   "outputs": [],
   "source": [
    "train_size = 50_000\n",
    "train_ds, val_ds = torch.utils.data.random_split(graph_dataset, [train_size, len(graph_dataset)-train_size])\n",
    "batch_size = 32\n",
    "train_dl = DataLoader(train_ds, batch_size=batch_size, shuffle=True, num_workers=8, pin_memory=True) # TODO: look for speedups i.e. pin memory? num_workers = # cpus\n",
    "val_dl = DataLoader(val_ds, batch_size=batch_size, shuffle=False, num_workers=8, pin_memory=True)"
   ]
  },
  {
   "cell_type": "code",
   "execution_count": 75,
   "id": "96e1f53c-3994-4336-a248-afd45f238603",
   "metadata": {},
   "outputs": [],
   "source": [
    "for data in train_dl:\n",
    "    break"
   ]
  },
  {
   "cell_type": "code",
   "execution_count": 76,
   "id": "f53694c8-a688-41c4-83fd-e88ebf005bdc",
   "metadata": {},
   "outputs": [
    {
     "data": {
      "text/plain": [
       "<matplotlib.colorbar.Colorbar at 0x7f2bb5939280>"
      ]
     },
     "execution_count": 76,
     "metadata": {},
     "output_type": "execute_result"
    },
    {
     "data": {
      "image/png": "[encoded data removed]",
      "text/plain": [
       "<Figure size 432x288 with 2 Axes>"
      ]
     },
     "metadata": {
      "needs_background": "light"
     },
     "output_type": "display_data"
    }
   ],
   "source": [
    "sample_num = 14\n",
    "plt.imshow(data[0][sample_num,:,:])\n",
    "plt.colorbar()"
   ]
  },
  {
   "cell_type": "code",
   "execution_count": 77,
   "id": "4bef5ba3-a84a-452e-9923-abe2070b1283",
   "metadata": {},
   "outputs": [],
   "source": [
    "# these can be converted to args in a config file later\n",
    "nfeat = 3\n",
    "nhid = 64\n",
    "nclass = 32\n",
    "dropout = 0.5\n",
    "learning_rate = 0.01\n",
    "num_epoch = 1"
   ]
  },
  {
   "cell_type": "code",
   "execution_count": 78,
   "id": "167e6500-dcba-48b7-9b1c-3706f921cc30",
   "metadata": {},
   "outputs": [
    {
     "name": "stdout",
     "output_type": "stream",
     "text": [
      "torch.float64\n",
      "torch.float64\n"
     ]
    }
   ],
   "source": [
    "# Create Model\n",
    "adj = data[0][sample_num,:,:]\n",
    "features = data[1][sample_num,:,:]\n",
    "print(features.dtype)\n",
    "print(adj.dtype)\n",
    "# print(features.shape)\n",
    "# print(adj.shape[0])\n",
    "# print(adj.sum())\n",
    "# pos_weight = float(adj.shape[0] * adj.shape[0] - adj.sum()) / adj.sum() # DON'T NEED WEIGHTS IN THIS SITUATION\n",
    "# print(pos_weight)\n",
    "# norm = 32 * 32 / 2 * (32 * 32 - sum(A_tilde))\n",
    "# norm = N / (2*(N - sum(A_tilde)))\n",
    "# norm = adj.shape[0] * adj.shape[0] / float((adj.shape[0] * adj.shape[0] - adj.sum()) * 2)\n",
    "# print(norm) # why is the norm calculated this way? why is it used in BCE? "
   ]
  },
  {
   "cell_type": "code",
   "execution_count": 79,
   "id": "11a753bc-588b-40e7-8209-99b62ce4cf75",
   "metadata": {},
   "outputs": [
    {
     "name": "stdout",
     "output_type": "stream",
     "text": [
      "self.weight torch.float64\n",
      "bias torch.float64\n",
      "self.weight torch.float64\n",
      "bias torch.float64\n"
     ]
    },
    {
     "name": "stderr",
     "output_type": "stream",
     "text": [
      "100%|██████████| 1/1 [00:00<00:00,  7.71it/s]"
     ]
    },
    {
     "name": "stdout",
     "output_type": "stream",
     "text": [
      "type for input torch.float64\n",
      "type for self.weight torch.float64\n",
      "shape of input torch.Size([1024, 3])\n",
      "shape of self.weight torch.Size([3, 64])\n",
      "shape of support torch.Size([1024, 64])\n",
      "shape of adj torch.Size([1024, 1024])\n",
      "type for input torch.float64\n",
      "type for self.weight torch.float64\n",
      "shape of input torch.Size([1024, 64])\n",
      "shape of self.weight torch.Size([64, 32])\n",
      "shape of support torch.Size([1024, 32])\n",
      "shape of adj torch.Size([1024, 1024])\n",
      "Epoch: 0001 train_loss= 0.97987 time= 0.12772\n",
      "End of training!\n"
     ]
    },
    {
     "name": "stderr",
     "output_type": "stream",
     "text": [
      "\n"
     ]
    }
   ],
   "source": [
    "# adj_label = adj_train + sp.eye(adj_train.shape[0])\n",
    "# adj_label = sparse_to_tuple(adj_label)\n",
    "\n",
    "\n",
    "\n",
    "# adj_norm = torch.sparse.FloatTensor(torch.LongTensor(adj_norm[0].T), \n",
    "#                             torch.FloatTensor(adj_norm[1]), \n",
    "#                             torch.Size(adj_norm[2]))\n",
    "# adj_label = torch.sparse.FloatTensor(torch.LongTensor(adj_label[0].T), \n",
    "#                             torch.FloatTensor(adj_label[1]), \n",
    "#                             torch.Size(adj_label[2]))\n",
    "# features = torch.sparse.FloatTensor(torch.LongTensor(features[0].T), \n",
    "#                             torch.FloatTensor(features[1]), \n",
    "#                             torch.Size(features[2]))\n",
    "\n",
    "# weight_mask = adj_label.to_dense().view(-1) == 1\n",
    "# weight_tensor = torch.ones(weight_mask.size(0)) \n",
    "# weight_tensor[weight_mask] = pos_weight\n",
    "\n",
    "# init model and optimizer\n",
    "# model = getattr(model,args.model)(adj_norm)\n",
    "from torch.optim import Adam\n",
    "from tqdm import trange\n",
    "\n",
    "model = GAE(nfeat, nhid, nclass, dropout)\n",
    "optimizer = Adam(model.parameters(), lr=learning_rate)\n",
    "\n",
    "# train model\n",
    "for epoch in trange(num_epoch):\n",
    "    t = time.time()\n",
    "\n",
    "    A_pred = model(features, adj)\n",
    "    optimizer.zero_grad()\n",
    "    # the AE uses binary cross entropy\n",
    "#     loss = log_lik = norm*F.binary_cross_entropy(A_pred.view(-1), adj_label.to_dense().view(-1), weight = weight_tensor)\n",
    "    loss = log_lik = F.binary_cross_entropy(A_pred, adj)\n",
    "    \n",
    "#     if args.model == 'VGAE':\n",
    "#         # I think this is the expression for KL divergence for multivariate normal distributions that have a diagonal multivariate normal\n",
    "#         kl_divergence = 0.5/ A_pred.size(0) * (1 + 2*model.logstd - model.mean**2 - torch.exp(model.logstd)**2).sum(1).mean() # is this mean redundant?\n",
    "#         loss -= kl_divergence\n",
    "\n",
    "    # loss.backward() computes dloss/dx for every parameter x which has requires_grad=True. \n",
    "    # These are accumulated into x.grad for every parameter x. \n",
    "    # source: https://discuss.pytorch.org/t/what-does-the-backward-function-do/9944\n",
    "    loss.backward()\n",
    "    optimizer.step() # optimizer.step updates the value of x using the gradient x.grad.\n",
    "\n",
    "#     train_acc = get_acc(A_pred,adj_label)\n",
    "\n",
    "#     val_roc, val_ap = get_scores(val_edges, val_edges_false, A_pred)\n",
    "#     print(\"Epoch:\", '%04d' % (epoch + 1), \"train_loss=\", \"{:.5f}\".format(loss.item()),\n",
    "#           \"train_acc=\", \"{:.5f}\".format(train_acc), \"val_roc=\", \"{:.5f}\".format(val_roc),\n",
    "#           \"val_ap=\", \"{:.5f}\".format(val_ap),\n",
    "#           \"time=\", \"{:.5f}\".format(time.time() - t))\n",
    "    print(\"Epoch:\", '%04d' % (epoch + 1), \"train_loss=\", \"{:.5f}\".format(loss.item()),\n",
    "          \"time=\", \"{:.5f}\".format(time.time() - t))\n",
    "\n",
    "\n",
    "# test_roc, test_ap = get_scores(test_edges, test_edges_false, A_pred)\n",
    "print(\"End of training!\")"
   ]
  }
 ],
 "metadata": {
  "kernelspec": {
   "display_name": "Python [conda env:glm_env]",
   "language": "python",
   "name": "conda-env-glm_env-py"
  },
  "language_info": {
   "codemirror_mode": {
    "name": "ipython",
    "version": 3
   },
   "file_extension": ".py",
   "mimetype": "text/x-python",
   "name": "python",
   "nbconvert_exporter": "python",
   "pygments_lexer": "ipython3",
   "version": "3.9.5"
  }
 },
 "nbformat": 4,
 "nbformat_minor": 5
}
