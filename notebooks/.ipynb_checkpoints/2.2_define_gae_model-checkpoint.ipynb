{
 "cells": [
  {
   "cell_type": "markdown",
   "id": "30ad218c-bcd7-441c-81b7-b400e26d93a0",
   "metadata": {},
   "source": [
    "# Define My GAE Model\n",
    "\n",
    "Now that I've gone through and taught myself how the GAE model works, its time to build my own. Here I will define the following: \n",
    "\n",
    "- [ ] GCN layer\n",
    "- [ ] GAE architecture\n",
    "- [ ] GAE training loop\n",
    "\n",
    "I will get all of this to run and show that I can do training on a simple dataset. "
   ]
  }
 ],
 "metadata": {
  "kernelspec": {
   "display_name": "Python [conda env:glm_env]",
   "language": "python",
   "name": "conda-env-glm_env-py"
  },
  "language_info": {
   "codemirror_mode": {
    "name": "ipython",
    "version": 3
   },
   "file_extension": ".py",
   "mimetype": "text/x-python",
   "name": "python",
   "nbconvert_exporter": "python",
   "pygments_lexer": "ipython3",
   "version": "3.9.5"
  }
 },
 "nbformat": 4,
 "nbformat_minor": 5
}
