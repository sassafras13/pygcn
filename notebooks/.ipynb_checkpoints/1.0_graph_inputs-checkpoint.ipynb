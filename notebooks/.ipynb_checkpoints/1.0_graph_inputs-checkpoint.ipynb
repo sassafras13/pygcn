{
 "cells": [
  {
   "cell_type": "markdown",
   "id": "00f22432-57ea-4f99-a06b-6b4a66b7f1d7",
   "metadata": {},
   "source": [
    "# Experimenting with Graph Inputs to PyGCN \n",
    "## References: \n",
    "\n",
    "- [ ] https://github.com/tkipf/pygcn\n",
    "- [ ] https://github.com/DaehanKim/vgae_pytorch\n",
    "- [ ] https://arxiv.org/abs/1611.07308\n"
   ]
  },
  {
   "cell_type": "markdown",
   "id": "5e0713b1-afcb-4a08-93a6-a2b8844c3e40",
   "metadata": {},
   "source": [
    "## Objective\n",
    "\n",
    "This notebook is going to explain how we process graph inputs for use with GAE model. "
   ]
  },
  {
   "cell_type": "markdown",
   "id": "3c136c75-3e16-428c-852c-9b37057d4c30",
   "metadata": {},
   "source": [
    "## Input Data\n",
    "\n",
    "We start with a citation network dataset (in this case, Cora). The dataset is just a list of publications with labels assigned based on what topic they cover. The dataset also includes information on which publications cite each other. From this, we can build a graph representing the citation network. \n",
    "\n",
    "The graph that represents this network is undirected (i.e. we assume that if node 1 is connected to node 2, then node 2 is also connected to node 1) and that it is unweighted (i.e. all the edges have the same weights). The graph is represented here as an adjacency matrix and a features matrix. Both of these matrices are sparse since each publication is only connected to a few other publications (generally). \n",
    "\n",
    "### Variables\n",
    "\n",
    "- **N** : number of nodes in graph \n",
    "- **A** : adj matrix (size N x N) \n",
    "- **D** : degree matrix of A (i.e. a diagonal matrix where each entry represents the number of edges going into the node corresponding to that row) \n",
    "- **F** : number of features that describe each node \n",
    "- **X** : feature matrix (size N x F? paper says N x D but I don't know what D would be in this case?)\n",
    "- **Z** : stochastic latent variables (size N x F) \n",
    "\n",
    "### Adj\n",
    "\n",
    "The adjacency matrix contains 1's indicating where 2 publications cite each other. Kipf and Welling define the adj matrix as also having all diagonal elements set to 1 to indicate that nodes/publications are connected to themselves. This matrix is converted to $\\tilde{A}$, which is a symmetrically normalized adjacency matrix computed as $\\tilde{A} = D^{-\\frac{1}{2}} A D^{-\\frac{1}{2}}$. "
   ]
  },
  {
   "cell_type": "markdown",
   "id": "bfb7f2ca-3333-461b-9814-fb5d7b20576b",
   "metadata": {},
   "source": [
    "## Brainstorm: How to convert our data to graph representation?\n",
    "\n"
   ]
  },
  {
   "cell_type": "markdown",
   "id": "076171a0-ef7d-4aa8-a8f3-963204c87cd7",
   "metadata": {},
   "source": [
    "## Utils"
   ]
  },
  {
   "cell_type": "code",
   "execution_count": 1,
   "id": "0e539e94-deee-4777-8dd6-e7c0ca3d08d4",
   "metadata": {},
   "outputs": [],
   "source": [
    "import numpy as np\n",
    "import scipy.sparse as sp\n",
    "import torch"
   ]
  },
  {
   "cell_type": "code",
   "execution_count": 2,
   "id": "178bfecc-1c99-4b0d-b33e-344055eb4088",
   "metadata": {},
   "outputs": [],
   "source": [
    "def encode_onehot(labels):\n",
    "    classes = set(labels)\n",
    "    classes_dict = {c: np.identity(len(classes))[i, :] for i, c in\n",
    "                    enumerate(classes)}\n",
    "    labels_onehot = np.array(list(map(classes_dict.get, labels)),\n",
    "                             dtype=np.int32)\n",
    "    return labels_onehot"
   ]
  },
  {
   "cell_type": "code",
   "execution_count": 3,
   "id": "be8fa79a-5b54-421c-aa3f-0bd2d8aae48f",
   "metadata": {},
   "outputs": [],
   "source": [
    "def load_data(path=\"../data/cora/\", dataset=\"cora\"):\n",
    "    \"\"\"Load citation network dataset (cora only for now)\"\"\"\n",
    "    print('Loading {} dataset...'.format(dataset))\n",
    "\n",
    "    idx_features_labels = np.genfromtxt(\"{}{}.content\".format(path, dataset),\n",
    "                                        dtype=np.dtype(str))\n",
    "    features = sp.csr_matrix(idx_features_labels[:, 1:-1], dtype=np.float32)\n",
    "    labels = encode_onehot(idx_features_labels[:, -1])\n",
    "\n",
    "    # build graph\n",
    "    idx = np.array(idx_features_labels[:, 0], dtype=np.int32)\n",
    "    idx_map = {j: i for i, j in enumerate(idx)}\n",
    "    edges_unordered = np.genfromtxt(\"{}{}.cites\".format(path, dataset),\n",
    "                                    dtype=np.int32)\n",
    "    edges = np.array(list(map(idx_map.get, edges_unordered.flatten())),\n",
    "                     dtype=np.int32).reshape(edges_unordered.shape)\n",
    "    adj = sp.coo_matrix((np.ones(edges.shape[0]), (edges[:, 0], edges[:, 1])),\n",
    "                        shape=(labels.shape[0], labels.shape[0]),\n",
    "                        dtype=np.float32)\n",
    "\n",
    "    # build symmetric adjacency matrix\n",
    "    # ref: https://github.com/tkipf/pygcn/issues/3\n",
    "    # adj is populated with 0's and 1's\n",
    "    # if adj.T > adj then one of those entries is 0\n",
    "    # therefore by multiplying them together, we get 0\n",
    "    # the + (*) and - (*) terms where * = adj.T.multiply(adj.T > adj)\n",
    "    # are for removing directed edges so that we are left with\n",
    "    # an UNDIRECTED graph (i.e. edges are bidirectional)\n",
    "    adj = adj + adj.T.multiply(adj.T > adj) - adj.multiply(adj.T > adj)\n",
    "\n",
    "    features = normalize(features)\n",
    "    adj = normalize(adj + sp.eye(adj.shape[0]))\n",
    "\n",
    "    idx_train = range(140)\n",
    "    idx_val = range(200, 500)\n",
    "    idx_test = range(500, 1500)\n",
    "\n",
    "    features = torch.FloatTensor(np.array(features.todense()))\n",
    "    labels = torch.LongTensor(np.where(labels)[1])\n",
    "    adj = sparse_mx_to_torch_sparse_tensor(adj)\n",
    "\n",
    "    idx_train = torch.LongTensor(idx_train)\n",
    "    idx_val = torch.LongTensor(idx_val)\n",
    "    idx_test = torch.LongTensor(idx_test)\n",
    "\n",
    "    return adj, features, labels, idx_train, idx_val, idx_test"
   ]
  },
  {
   "cell_type": "code",
   "execution_count": 4,
   "id": "4bb46c91-022f-4e1a-b126-27288e2994f7",
   "metadata": {},
   "outputs": [],
   "source": [
    "def normalize(mx):\n",
    "    \"\"\"Row-normalize sparse matrix\"\"\"\n",
    "    rowsum = np.array(mx.sum(1))\n",
    "    r_inv = np.power(rowsum, -1).flatten()\n",
    "    r_inv[np.isinf(r_inv)] = 0.\n",
    "    r_mat_inv = sp.diags(r_inv)\n",
    "    mx = r_mat_inv.dot(mx)\n",
    "    return mx"
   ]
  },
  {
   "cell_type": "code",
   "execution_count": 5,
   "id": "f3553799-64c0-4e9c-bed1-489fb71eaa4c",
   "metadata": {},
   "outputs": [],
   "source": [
    "def accuracy(output, labels):\n",
    "    preds = output.max(1)[1].type_as(labels)\n",
    "    correct = preds.eq(labels).double()\n",
    "    correct = correct.sum()\n",
    "    return correct / len(labels)"
   ]
  },
  {
   "cell_type": "code",
   "execution_count": 6,
   "id": "a606729b-5d75-41f1-9986-cd3f6364cb5c",
   "metadata": {},
   "outputs": [],
   "source": [
    "def sparse_mx_to_torch_sparse_tensor(sparse_mx):\n",
    "    \"\"\"Convert a scipy sparse matrix to a torch sparse tensor.\"\"\"\n",
    "    sparse_mx = sparse_mx.tocoo().astype(np.float32)\n",
    "    indices = torch.from_numpy(\n",
    "        np.vstack((sparse_mx.row, sparse_mx.col)).astype(np.int64))\n",
    "    values = torch.from_numpy(sparse_mx.data)\n",
    "    shape = torch.Size(sparse_mx.shape)\n",
    "    return torch.sparse.FloatTensor(indices, values, shape)"
   ]
  },
  {
   "cell_type": "code",
   "execution_count": 7,
   "id": "d8361599-1ac2-45e6-9904-30c2c0d933fb",
   "metadata": {},
   "outputs": [
    {
     "name": "stdout",
     "output_type": "stream",
     "text": [
      "Loading cora dataset...\n"
     ]
    }
   ],
   "source": [
    "adj, features, labels, idx_train, idx_val, idx_test = load_data()"
   ]
  },
  {
   "cell_type": "code",
   "execution_count": 11,
   "id": "796f4894-82d0-4088-8a81-87315591f87e",
   "metadata": {},
   "outputs": [
    {
     "name": "stdout",
     "output_type": "stream",
     "text": [
      "adj tensor(indices=tensor([[   0,    8,   14,  ..., 1389, 2344, 2707],\n",
      "                       [   0,    0,    0,  ..., 2707, 2707, 2707]]),\n",
      "       values=tensor([0.1667, 0.1667, 0.0500,  ..., 0.2000, 0.5000, 0.2500]),\n",
      "       size=(2708, 2708), nnz=13264, layout=torch.sparse_coo)\n",
      "adj type <class 'torch.Tensor'>\n",
      "adj[0] tensor(indices=tensor([[  0,   8,  14, 258, 435, 544]]),\n",
      "       values=tensor([0.1667, 0.1667, 0.1667, 0.1667, 0.1667, 0.1667]),\n",
      "       size=(2708,), nnz=6, layout=torch.sparse_coo)\n"
     ]
    }
   ],
   "source": [
    "print(\"adj\", adj)\n",
    "print(\"adj type\", type(adj))\n",
    "print(\"adj[0]\", adj[0])\n",
    "# adj is a torch tensor in the sparse COO layout\n",
    "# to create use torch.sparse.FloatTensor(indices, values, shape)\n",
    "# adj is normalized!"
   ]
  },
  {
   "cell_type": "code",
   "execution_count": 14,
   "id": "d5ccf9d9-507e-4320-9c20-3f1e6182f47d",
   "metadata": {},
   "outputs": [
    {
     "name": "stdout",
     "output_type": "stream",
     "text": [
      "features torch.Size([2708, 1433])\n"
     ]
    }
   ],
   "source": [
    "print(\"features\", features.shape)\n",
    "# features is a torch array of size num_samples x num_features\n",
    "# features are normalized!"
   ]
  },
  {
   "cell_type": "code",
   "execution_count": 17,
   "id": "c1dcb89a-6a2c-4c18-8264-6f4a6106cb32",
   "metadata": {},
   "outputs": [
    {
     "name": "stdout",
     "output_type": "stream",
     "text": [
      "labels torch.Size([2708])\n"
     ]
    }
   ],
   "source": [
    "print(\"labels\", labels.shape)\n",
    "# labels is a torch array of size num_samples x 1"
   ]
  },
  {
   "cell_type": "markdown",
   "id": "a4a7c728-886a-4275-bafc-b7b46d762b25",
   "metadata": {},
   "source": [
    "### TODO\n",
    "- [ ] Are the GCN layers presented here the same as in the GVAE repo? \n",
    "- [ ] implement the GCN layers\n",
    "- [ ] implement the encoder and decoder\n",
    "- [ ] implement the training loop\n",
    "- [ ] generate my own graphs\n",
    "\n",
    "### Conceptual Questions: \n",
    "- [ ] this works on one large graph - how would I train on lots of smaller graphs? \n",
    "- [ ] why does gVAE worry about graph rotational invariance but I do not with GVAE? "
   ]
  }
 ],
 "metadata": {
  "kernelspec": {
   "display_name": "Python [conda env:glm_env]",
   "language": "python",
   "name": "conda-env-glm_env-py"
  },
  "language_info": {
   "codemirror_mode": {
    "name": "ipython",
    "version": 3
   },
   "file_extension": ".py",
   "mimetype": "text/x-python",
   "name": "python",
   "nbconvert_exporter": "python",
   "pygments_lexer": "ipython3",
   "version": "3.9.5"
  }
 },
 "nbformat": 4,
 "nbformat_minor": 5
}
