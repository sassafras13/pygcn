{
 "cells": [
  {
   "cell_type": "markdown",
   "id": "00f22432-57ea-4f99-a06b-6b4a66b7f1d7",
   "metadata": {},
   "source": [
    "# Experimenting with Graph Inputs to PyGCN \n",
    "## References: \n",
    "\n",
    "- [ ] https://github.com/tkipf/pygcn\n",
    "- [ ] https://github.com/DaehanKim/vgae_pytorch\n",
    "- [ ] https://arxiv.org/abs/1611.07308\n"
   ]
  },
  {
   "cell_type": "markdown",
   "id": "5e0713b1-afcb-4a08-93a6-a2b8844c3e40",
   "metadata": {},
   "source": [
    "## Objective\n",
    "\n",
    "This notebook is going to explain how we process graph inputs for use with GAE model. "
   ]
  },
  {
   "cell_type": "markdown",
   "id": "3c136c75-3e16-428c-852c-9b37057d4c30",
   "metadata": {},
   "source": [
    "## Input Data\n",
    "\n",
    "We start with a citation network dataset (in this case, Cora). The dataset is a list of publications with labels assigned based on what topic they cover. The dataset also includes information on which publications cite each other. From this, we can build a graph representing the citation network. \n",
    "\n",
    "The graph that represents this network is undirected (i.e. we assume that if node 1 is connected to node 2, then node 2 is also connected to node 1) and that it is unweighted (i.e. all the edges have the same weights). The graph is represented here as an adjacency matrix and a features matrix. Both of these matrices are sparse since each publication is only connected to a few other publications (generally). \n",
    "\n",
    "### Variables\n",
    "\n",
    "- **N** : number of nodes in graph \n",
    "- **A** : adj matrix (size N x N) \n",
    "- **D** : degree matrix of A (i.e. a diagonal matrix where each entry represents the number of edges going into the node corresponding to that row), also size N x N\n",
    "- **F** : number of features that describe each node \n",
    "- **X** : feature matrix (size N x F? paper says N x D but I don't know what D would be in this case?)\n",
    "- **Z** : stochastic latent variables (size N x F) \n",
    "\n",
    "### Adj\n",
    "\n",
    "The adjacency matrix contains 1's indicating where 2 publications cite each other. Kipf and Welling define the adj matrix as also having all diagonal elements set to 1 to indicate that nodes/publications are connected to themselves. This matrix is converted to $\\tilde{A}$, which is a symmetrically normalized adjacency matrix computed as $\\tilde{A} = D^{-\\frac{1}{2}} A D^{-\\frac{1}{2}}$. "
   ]
  },
  {
   "cell_type": "markdown",
   "id": "2d305169-cbb0-4d1c-b893-d9f69c9a1ba5",
   "metadata": {},
   "source": [
    "## Overall Process\n",
    "\n",
    "1. Import the raw data as images with 3 channels using a Dataset class\n",
    "2. The Dataset class applies a Transform that converts the raw data to A and X matrices\n",
    "3. The DataLoader imports the Dataset\n",
    "4. Define GCN layers \n",
    "5. Define GCN encoder\n",
    "6. Define GCN decoder\n",
    "7. Define a training loop\n",
    "8. Run training"
   ]
  },
  {
   "cell_type": "markdown",
   "id": "076171a0-ef7d-4aa8-a8f3-963204c87cd7",
   "metadata": {},
   "source": [
    "## Utils"
   ]
  },
  {
   "cell_type": "code",
   "execution_count": 3,
   "id": "0e539e94-deee-4777-8dd6-e7c0ca3d08d4",
   "metadata": {},
   "outputs": [],
   "source": [
    "import numpy as np\n",
    "import scipy.sparse as sp\n",
    "from scipy.linalg import sqrtm\n",
    "import torch\n",
    "import matplotlib.pyplot as plt"
   ]
  },
  {
   "cell_type": "code",
   "execution_count": null,
   "id": "77b69c26-8b76-4bee-9d11-50090037453f",
   "metadata": {},
   "outputs": [],
   "source": [
    "def encode_onehot(labels):\n",
    "    classes = set(labels)\n",
    "    classes_dict = {c: np.identity(len(classes))[i, :] for i, c in\n",
    "                    enumerate(classes)}\n",
    "    labels_onehot = np.array(list(map(classes_dict.get, labels)),\n",
    "                             dtype=np.int32)\n",
    "    return labels_onehot"
   ]
  },
  {
   "cell_type": "code",
   "execution_count": 3,
   "id": "be8fa79a-5b54-421c-aa3f-0bd2d8aae48f",
   "metadata": {},
   "outputs": [],
   "source": [
    "def load_data(path=\"../data/cora/\", dataset=\"cora\"):\n",
    "    \"\"\"Load citation network dataset (cora only for now)\"\"\"\n",
    "    print('Loading {} dataset...'.format(dataset))\n",
    "\n",
    "    idx_features_labels = np.genfromtxt(\"{}{}.content\".format(path, dataset),\n",
    "                                        dtype=np.dtype(str))\n",
    "    features = sp.csr_matrix(idx_features_labels[:, 1:-1], dtype=np.float32)\n",
    "    labels = encode_onehot(idx_features_labels[:, -1])\n",
    "\n",
    "    # build graph\n",
    "    idx = np.array(idx_features_labels[:, 0], dtype=np.int32)\n",
    "    idx_map = {j: i for i, j in enumerate(idx)}\n",
    "    edges_unordered = np.genfromtxt(\"{}{}.cites\".format(path, dataset),\n",
    "                                    dtype=np.int32)\n",
    "    edges = np.array(list(map(idx_map.get, edges_unordered.flatten())),\n",
    "                     dtype=np.int32).reshape(edges_unordered.shape)\n",
    "    adj = sp.coo_matrix((np.ones(edges.shape[0]), (edges[:, 0], edges[:, 1])),\n",
    "                        shape=(labels.shape[0], labels.shape[0]),\n",
    "                        dtype=np.float32)\n",
    "\n",
    "    # build symmetric adjacency matrix\n",
    "    # ref: https://github.com/tkipf/pygcn/issues/3\n",
    "    # adj is populated with 0's and 1's\n",
    "    # if adj.T > adj then one of those entries is 0\n",
    "    # therefore by multiplying them together, we get 0\n",
    "    # the + (*) and - (*) terms where * = adj.T.multiply(adj.T > adj)\n",
    "    # are for removing directed edges so that we are left with\n",
    "    # an UNDIRECTED graph (i.e. edges are bidirectional)\n",
    "    adj = adj + adj.T.multiply(adj.T > adj) - adj.multiply(adj.T > adj)\n",
    "\n",
    "    features = normalize(features)\n",
    "    adj = normalize(adj + sp.eye(adj.shape[0]))\n",
    "\n",
    "    idx_train = range(140)\n",
    "    idx_val = range(200, 500)\n",
    "    idx_test = range(500, 1500)\n",
    "\n",
    "    features = torch.FloatTensor(np.array(features.todense()))\n",
    "    labels = torch.LongTensor(np.where(labels)[1])\n",
    "    adj = sparse_mx_to_torch_sparse_tensor(adj)\n",
    "\n",
    "    idx_train = torch.LongTensor(idx_train)\n",
    "    idx_val = torch.LongTensor(idx_val)\n",
    "    idx_test = torch.LongTensor(idx_test)\n",
    "\n",
    "    return adj, features, labels, idx_train, idx_val, idx_test"
   ]
  },
  {
   "cell_type": "code",
   "execution_count": 4,
   "id": "4bb46c91-022f-4e1a-b126-27288e2994f7",
   "metadata": {},
   "outputs": [],
   "source": [
    "def normalize(mx):\n",
    "    \"\"\"Row-normalize sparse matrix\"\"\"\n",
    "    rowsum = np.array(mx.sum(1))\n",
    "    r_inv = np.power(rowsum, -1).flatten()\n",
    "    r_inv[np.isinf(r_inv)] = 0.\n",
    "    r_mat_inv = sp.diags(r_inv)\n",
    "    mx = r_mat_inv.dot(mx)\n",
    "    return mx"
   ]
  },
  {
   "cell_type": "code",
   "execution_count": 5,
   "id": "f3553799-64c0-4e9c-bed1-489fb71eaa4c",
   "metadata": {},
   "outputs": [],
   "source": [
    "def accuracy(output, labels):\n",
    "    preds = output.max(1)[1].type_as(labels)\n",
    "    correct = preds.eq(labels).double()\n",
    "    correct = correct.sum()\n",
    "    return correct / len(labels)"
   ]
  },
  {
   "cell_type": "code",
   "execution_count": 6,
   "id": "a606729b-5d75-41f1-9986-cd3f6364cb5c",
   "metadata": {},
   "outputs": [],
   "source": [
    "def sparse_mx_to_torch_sparse_tensor(sparse_mx):\n",
    "    \"\"\"Convert a scipy sparse matrix to a torch sparse tensor.\"\"\"\n",
    "    sparse_mx = sparse_mx.tocoo().astype(np.float32)\n",
    "    indices = torch.from_numpy(\n",
    "        np.vstack((sparse_mx.row, sparse_mx.col)).astype(np.int64))\n",
    "    values = torch.from_numpy(sparse_mx.data)\n",
    "    shape = torch.Size(sparse_mx.shape)\n",
    "    return torch.sparse.FloatTensor(indices, values, shape)"
   ]
  },
  {
   "cell_type": "code",
   "execution_count": 7,
   "id": "d8361599-1ac2-45e6-9904-30c2c0d933fb",
   "metadata": {},
   "outputs": [
    {
     "name": "stdout",
     "output_type": "stream",
     "text": [
      "Loading cora dataset...\n"
     ]
    }
   ],
   "source": [
    "adj, features, labels, idx_train, idx_val, idx_test = load_data()"
   ]
  },
  {
   "cell_type": "code",
   "execution_count": 11,
   "id": "796f4894-82d0-4088-8a81-87315591f87e",
   "metadata": {},
   "outputs": [
    {
     "name": "stdout",
     "output_type": "stream",
     "text": [
      "adj tensor(indices=tensor([[   0,    8,   14,  ..., 1389, 2344, 2707],\n",
      "                       [   0,    0,    0,  ..., 2707, 2707, 2707]]),\n",
      "       values=tensor([0.1667, 0.1667, 0.0500,  ..., 0.2000, 0.5000, 0.2500]),\n",
      "       size=(2708, 2708), nnz=13264, layout=torch.sparse_coo)\n",
      "adj type <class 'torch.Tensor'>\n",
      "adj[0] tensor(indices=tensor([[  0,   8,  14, 258, 435, 544]]),\n",
      "       values=tensor([0.1667, 0.1667, 0.1667, 0.1667, 0.1667, 0.1667]),\n",
      "       size=(2708,), nnz=6, layout=torch.sparse_coo)\n"
     ]
    }
   ],
   "source": [
    "print(\"adj\", adj)\n",
    "print(\"adj type\", type(adj))\n",
    "print(\"adj[0]\", adj[0])\n",
    "# adj is a torch tensor in the sparse COO layout\n",
    "# to create use torch.sparse.FloatTensor(indices, values, shape)\n",
    "# adj is normalized!"
   ]
  },
  {
   "cell_type": "code",
   "execution_count": 14,
   "id": "d5ccf9d9-507e-4320-9c20-3f1e6182f47d",
   "metadata": {},
   "outputs": [
    {
     "name": "stdout",
     "output_type": "stream",
     "text": [
      "features torch.Size([2708, 1433])\n"
     ]
    }
   ],
   "source": [
    "print(\"features\", features.shape)\n",
    "# features is a torch array of size num_samples x num_features\n",
    "# features are normalized!"
   ]
  },
  {
   "cell_type": "code",
   "execution_count": 17,
   "id": "c1dcb89a-6a2c-4c18-8264-6f4a6106cb32",
   "metadata": {},
   "outputs": [
    {
     "name": "stdout",
     "output_type": "stream",
     "text": [
      "labels torch.Size([2708])\n"
     ]
    }
   ],
   "source": [
    "print(\"labels\", labels.shape)\n",
    "# labels is a torch array of size num_samples x 1"
   ]
  },
  {
   "cell_type": "markdown",
   "id": "f1531e37-ec7e-4ae2-9800-c97c52cace22",
   "metadata": {
    "tags": []
   },
   "source": [
    "## How are A and X generated in example code?\n",
    "\n",
    "A is a torch tensor (torch.sparse.FloatTensor(indices, values, shape)) generated from the COOrdinate representation for matrices using Scipy. \n",
    "\n",
    "X is a regular torch tensor (not sparse). \n",
    "\n",
    "We want to be cautious about using sparse tensors because they are in beta version according to PyTorch's website. "
   ]
  },
  {
   "cell_type": "markdown",
   "id": "bfb7f2ca-3333-461b-9814-fb5d7b20576b",
   "metadata": {
    "tags": []
   },
   "source": [
    "## Brainstorm: How to convert our data to graph representation?\n",
    "\n",
    "We could skip right to the end and just build A and X for each patch as torch tensors, without leveraging any of the tricks in this code. \n",
    "\n",
    "However, it might be interesting to see if we could build a dictionary of keys (DOK) representation with Scipy and then convert that to a torch tensor later, as the code does below. Specifically, we could do this for a **2D data representation** as follows: \n",
    "\n",
    "- extract all of the events from a 2D representation of the data \n",
    "- each event unique id could be a key in the dictionary\n",
    "- we then iterate through every event in the patch:\n",
    "    - we get the x and y coordinate of the event\n",
    "    - we look for events that occur at (x +/- 1) and (y +/- 1) and add to the values for that key (if not already added)\n",
    "    - we add the mean intensity, std dev intensity and event count to the feature matrix (N x 3) \n",
    "    - note that N = 32 x 32 = 1024 because we are converting ALL of the pixels to a graph\n",
    "- we convert the DOK representation to a torch tensor (sparse then regular?)"
   ]
  },
  {
   "cell_type": "code",
   "execution_count": 1,
   "id": "132817d3-c648-476b-8f62-4476ca9c5ae7",
   "metadata": {},
   "outputs": [],
   "source": [
    "# import an example file with 2D representation, 3 channels\n",
    "# add a channel that assigns a unique ID to every pixel\n",
    "# find the IDs of the nonzero pixels \n",
    "# add the 3 channels of data for these nonzero pixels to a dictionary for X\n",
    "# add these IDs of nonzero pixels as keys to dictionary\n",
    "# iterate through the keys\n",
    "# get x and y indices of each pixel\n",
    "# look for pixels that are nonzero and adjacent \n",
    "# if there are adjacent pixels, add the unique IDs of those pixels as values to that key\n",
    "# convert the A and X dictionaries to tensors"
   ]
  },
  {
   "cell_type": "code",
   "execution_count": 4,
   "id": "1e05d943-d061-43b6-91fa-a6bbd8c83875",
   "metadata": {},
   "outputs": [],
   "source": [
    "# import an example file with 2D representation, 3 channels\n",
    "input_dir = \"/mnt/resource/staging/patched/smoke_data_sa_all/flattened_filtered_data/intensity_all\"\n",
    "filename = \"xmin_0500_xmax_0532_ymin_0500_ymax_0532_t00001.npy\"\n",
    "myfile = np.load(\"{}/{}\".format(input_dir, filename))"
   ]
  },
  {
   "cell_type": "code",
   "execution_count": 5,
   "id": "57209bae-2188-4b68-9fa7-34bfcdcefef6",
   "metadata": {},
   "outputs": [
    {
     "data": {
      "text/plain": [
       "(3, 32, 32)"
      ]
     },
     "execution_count": 5,
     "metadata": {},
     "output_type": "execute_result"
    }
   ],
   "source": [
    "myfile.shape"
   ]
  },
  {
   "cell_type": "code",
   "execution_count": 6,
   "id": "590ccef7-ad4c-4ab1-a226-7c2410440c5e",
   "metadata": {},
   "outputs": [
    {
     "data": {
      "text/plain": [
       "<matplotlib.colorbar.Colorbar at 0x7f1532faf7f0>"
      ]
     },
     "execution_count": 6,
     "metadata": {},
     "output_type": "execute_result"
    },
    {
     "data": {
      "image/png": "[encoded data removed]",
      "text/plain": [
       "<Figure size 432x288 with 2 Axes>"
      ]
     },
     "metadata": {
      "needs_background": "light"
     },
     "output_type": "display_data"
    }
   ],
   "source": [
    "plt.imshow(myfile[0,:,:])\n",
    "plt.colorbar()"
   ]
  },
  {
   "cell_type": "code",
   "execution_count": 7,
   "id": "6526e177-02f8-461b-91ea-a11db8866315",
   "metadata": {},
   "outputs": [
    {
     "data": {
      "text/plain": [
       "<matplotlib.colorbar.Colorbar at 0x7f160c5e7940>"
      ]
     },
     "execution_count": 7,
     "metadata": {},
     "output_type": "execute_result"
    },
    {
     "data": {
      "image/png": "[encoded data removed]",
      "text/plain": [
       "<Figure size 432x288 with 2 Axes>"
      ]
     },
     "metadata": {
      "needs_background": "light"
     },
     "output_type": "display_data"
    }
   ],
   "source": [
    "plt.imshow(myfile[1,:,:])\n",
    "plt.colorbar()"
   ]
  },
  {
   "cell_type": "code",
   "execution_count": 8,
   "id": "a933307e-eb28-4ce1-9b26-0aa4528f039d",
   "metadata": {},
   "outputs": [
    {
     "data": {
      "text/plain": [
       "<matplotlib.colorbar.Colorbar at 0x7f1532da3970>"
      ]
     },
     "execution_count": 8,
     "metadata": {},
     "output_type": "execute_result"
    },
    {
     "data": {
      "image/png": "[encoded data removed]",
      "text/plain": [
       "<Figure size 432x288 with 2 Axes>"
      ]
     },
     "metadata": {
      "needs_background": "light"
     },
     "output_type": "display_data"
    }
   ],
   "source": [
    "plt.imshow(myfile[2,:,:])\n",
    "plt.colorbar()"
   ]
  },
  {
   "cell_type": "code",
   "execution_count": 9,
   "id": "fbd24ccc-e836-4388-82e8-8b5e04719337",
   "metadata": {},
   "outputs": [
    {
     "name": "stdout",
     "output_type": "stream",
     "text": [
      "[[[0.000e+00 1.000e+00 2.000e+00 ... 2.900e+01 3.000e+01 3.100e+01]\n",
      "  [3.200e+01 3.300e+01 3.400e+01 ... 6.100e+01 6.200e+01 6.300e+01]\n",
      "  [6.400e+01 6.500e+01 6.600e+01 ... 9.300e+01 9.400e+01 9.500e+01]\n",
      "  ...\n",
      "  [9.280e+02 9.290e+02 9.300e+02 ... 9.570e+02 9.580e+02 9.590e+02]\n",
      "  [9.600e+02 9.610e+02 9.620e+02 ... 9.890e+02 9.900e+02 9.910e+02]\n",
      "  [9.920e+02 9.930e+02 9.940e+02 ... 1.021e+03 1.022e+03 1.023e+03]]]\n"
     ]
    },
    {
     "data": {
      "text/plain": [
       "<matplotlib.colorbar.Colorbar at 0x7f1532db1670>"
      ]
     },
     "execution_count": 9,
     "metadata": {},
     "output_type": "execute_result"
    },
    {
     "data": {
      "image/png": "[encoded data removed]",
      "text/plain": [
       "<Figure size 432x288 with 2 Axes>"
      ]
     },
     "metadata": {
      "needs_background": "light"
     },
     "output_type": "display_data"
    }
   ],
   "source": [
    "# add a channel that assigns a unique ID to every pixel\n",
    "hei = myfile.shape[1]\n",
    "wid = myfile.shape[2]\n",
    "# hei = 5\n",
    "# wid = 5\n",
    "num_pixels = hei * wid\n",
    "id_array = np.ones((hei*wid,))\n",
    "for i in range(num_pixels):\n",
    "    id_array[i] = i \n",
    "id_array = id_array.reshape((1, hei, wid))\n",
    "print(id_array)\n",
    "\n",
    "# add unique indices as 4th channel\n",
    "myfile = np.concatenate((myfile, id_array), axis=0)\n",
    "plt.imshow(myfile[3,:,:])\n",
    "plt.colorbar()"
   ]
  },
  {
   "cell_type": "code",
   "execution_count": 10,
   "id": "6683295d-e71f-464a-a6c2-6c0d059f510e",
   "metadata": {},
   "outputs": [
    {
     "name": "stdout",
     "output_type": "stream",
     "text": [
      "2\n",
      "[ 0  0  0  0  0  0  1  1  1  1  1  1  1  2  2  2  2  2  3  3  3  4  5  5\n",
      "  5  6  6  6  6  6  6  7  7  7  7  7  7  7  8  8  8  8  8  8  8  9  9  9\n",
      "  9  9  9  9  9 10 10 10 10 10 10 10 10 11 11 11 11 11 11 12 12 12]\n",
      "[14 15 16 17 18 27 14 15 16 17 18 19 27 15 16 17 18 19 16 17 18 17 12 13\n",
      " 14 11 12 13 14 15 28 11 12 13 14 15 16 28 11 12 13 14 15 16 17  0 11 12\n",
      " 13 14 15 16 17  0 11 12 13 14 15 16 17 11 12 13 14 15 16 13 15 16]\n"
     ]
    }
   ],
   "source": [
    "# find the IDs of the nonzero pixels \n",
    "idx_nonzero = np.nonzero(myfile[0,:,:])\n",
    "# idx_nonzero is a tuple of length 2, each entry in the tuple is the list of coordinates in one dimension\n",
    "print(len(idx_nonzero))\n",
    "print(idx_nonzero[0])\n",
    "print(idx_nonzero[1])"
   ]
  },
  {
   "cell_type": "code",
   "execution_count": 33,
   "id": "1c2c8a51-6195-47b0-978e-0a8d1aa674cf",
   "metadata": {},
   "outputs": [
    {
     "name": "stdout",
     "output_type": "stream",
     "text": [
      "x size (1024, 3)\n",
      "[2.         0.40400001 4.54526377]\n",
      "<class 'numpy.ndarray'>\n",
      "[[0. 0. 0.]\n",
      " [0. 0. 0.]\n",
      " [0. 0. 0.]\n",
      " ...\n",
      " [0. 0. 0.]\n",
      " [0. 0. 0.]\n",
      " [0. 0. 0.]]\n"
     ]
    }
   ],
   "source": [
    "# add the 3 channels of data for these nonzero pixels to a matrix for X\n",
    "example_value = myfile[:3, idx_nonzero[0][0], idx_nonzero[1][0]]\n",
    "example_value\n",
    "\n",
    "X = np.zeros((1024,3))\n",
    "print(\"x size\", X.shape)\n",
    "\n",
    "row_coords = idx_nonzero[0]\n",
    "col_coords = idx_nonzero[1]\n",
    "\n",
    "nonzero_entries = []\n",
    "\n",
    "for i in range(row_coords.shape[0]):\n",
    "    for j in range(col_coords.shape[0]):\n",
    "        key = int(myfile[3, row_coords[i], col_coords[j]])\n",
    "        X[key, :] = myfile[:3, row_coords[i], col_coords[j]]\n",
    "\n",
    "print(X[14])\n",
    "print(type(X))\n",
    "print(X)"
   ]
  },
  {
   "cell_type": "code",
   "execution_count": 34,
   "id": "f2195a18-c43d-45f6-95fe-7c4640b7207f",
   "metadata": {},
   "outputs": [
    {
     "name": "stdout",
     "output_type": "stream",
     "text": [
      "{14.0: [14.0, 15.0, 46.0, 47.0], 15.0: [14.0, 15.0, 16.0, 46.0, 47.0, 48.0], 16.0: [15.0, 16.0, 17.0, 47.0, 48.0, 49.0], 17.0: [16.0, 17.0, 18.0, 48.0, 49.0, 50.0], 18.0: [17.0, 18.0, 49.0, 50.0, 51.0], 27.0: [27.0, 59.0], 19.0: [18.0, 50.0, 51.0], 12.0: [], 13.0: [14.0, 46.0], 11.0: [], 28.0: [27.0, 59.0], 0.0: [], 46.0: [14.0, 15.0, 46.0, 47.0, 79.0], 47.0: [14.0, 15.0, 16.0, 46.0, 47.0, 48.0, 79.0, 80.0], 48.0: [15.0, 16.0, 17.0, 47.0, 48.0, 49.0, 79.0, 80.0, 81.0], 49.0: [16.0, 17.0, 18.0, 48.0, 49.0, 50.0, 80.0, 81.0, 82.0], 50.0: [17.0, 18.0, 49.0, 50.0, 51.0, 81.0, 82.0, 83.0], 59.0: [27.0, 59.0], 51.0: [18.0, 50.0, 51.0, 82.0, 83.0], 44.0: [], 45.0: [14.0, 46.0], 43.0: [], 60.0: [27.0, 59.0], 32.0: [], 78.0: [46.0, 47.0, 79.0], 79.0: [46.0, 47.0, 48.0, 79.0, 80.0, 112.0], 80.0: [47.0, 48.0, 49.0, 79.0, 80.0, 81.0, 112.0, 113.0], 81.0: [48.0, 49.0, 50.0, 80.0, 81.0, 82.0, 112.0, 113.0, 114.0], 82.0: [49.0, 50.0, 51.0, 81.0, 82.0, 83.0, 113.0, 114.0], 91.0: [59.0], 83.0: [50.0, 51.0, 82.0, 83.0, 114.0], 76.0: [], 77.0: [46.0], 75.0: [], 92.0: [59.0], 64.0: [], 110.0: [79.0], 111.0: [79.0, 80.0, 112.0], 112.0: [79.0, 80.0, 81.0, 112.0, 113.0, 145.0], 113.0: [80.0, 81.0, 82.0, 112.0, 113.0, 114.0, 145.0], 114.0: [81.0, 82.0, 83.0, 113.0, 114.0, 145.0], 123.0: [], 115.0: [82.0, 83.0, 114.0], 108.0: [], 109.0: [], 107.0: [], 124.0: [], 96.0: [], 142.0: [173.0, 174.0], 143.0: [112.0, 174.0], 144.0: [112.0, 113.0, 145.0], 145.0: [112.0, 113.0, 114.0, 145.0], 146.0: [113.0, 114.0, 145.0], 155.0: [], 147.0: [114.0], 140.0: [172.0, 173.0], 141.0: [172.0, 173.0, 174.0], 139.0: [172.0], 156.0: [], 128.0: [], 174.0: [173.0, 174.0, 205.0, 206.0, 207.0], 175.0: [174.0, 206.0, 207.0], 176.0: [145.0, 207.0], 177.0: [145.0], 178.0: [145.0], 187.0: [220.0], 179.0: [], 172.0: [172.0, 173.0, 203.0, 204.0, 205.0], 173.0: [172.0, 173.0, 174.0, 204.0, 205.0, 206.0], 171.0: [172.0, 203.0, 204.0], 188.0: [220.0], 160.0: [], 206.0: [173.0, 174.0, 205.0, 206.0, 207.0, 237.0, 238.0, 239.0], 207.0: [174.0, 206.0, 207.0, 238.0, 239.0, 240.0], 208.0: [207.0, 239.0, 240.0], 209.0: [240.0], 210.0: [], 219.0: [220.0, 252.0], 211.0: [], 204.0: [172.0, 173.0, 203.0, 204.0, 205.0, 235.0, 236.0, 237.0], 205.0: [172.0, 173.0, 174.0, 204.0, 205.0, 206.0, 236.0, 237.0, 238.0], 203.0: [172.0, 203.0, 204.0, 235.0, 236.0], 220.0: [220.0, 252.0], 192.0: [], 238.0: [205.0, 206.0, 207.0, 237.0, 238.0, 239.0, 269.0, 270.0, 271.0], 239.0: [206.0, 207.0, 238.0, 239.0, 240.0, 270.0, 271.0, 272.0], 240.0: [207.0, 239.0, 240.0, 271.0, 272.0, 273.0], 241.0: [240.0, 272.0, 273.0], 242.0: [273.0], 251.0: [220.0, 252.0], 243.0: [], 236.0: [203.0, 204.0, 205.0, 235.0, 236.0, 237.0, 267.0, 268.0, 269.0], 237.0: [204.0, 205.0, 206.0, 236.0, 237.0, 238.0, 268.0, 269.0, 270.0], 235.0: [203.0, 204.0, 235.0, 236.0, 267.0, 268.0], 252.0: [220.0, 252.0], 224.0: [], 270.0: [237.0, 238.0, 239.0, 269.0, 270.0, 271.0, 301.0, 302.0, 303.0], 271.0: [238.0, 239.0, 240.0, 270.0, 271.0, 272.0, 302.0, 303.0, 304.0], 272.0: [239.0, 240.0, 271.0, 272.0, 273.0, 303.0, 304.0, 305.0], 273.0: [240.0, 272.0, 273.0, 304.0, 305.0], 274.0: [273.0, 305.0], 283.0: [252.0], 275.0: [], 268.0: [235.0, 236.0, 237.0, 267.0, 268.0, 269.0, 299.0, 300.0, 301.0], 269.0: [236.0, 237.0, 238.0, 268.0, 269.0, 270.0, 300.0, 301.0, 302.0], 267.0: [235.0, 236.0, 267.0, 268.0, 299.0, 300.0], 284.0: [252.0], 256.0: [288.0], 302.0: [269.0, 270.0, 271.0, 301.0, 302.0, 303.0, 333.0, 334.0, 335.0], 303.0: [270.0, 271.0, 272.0, 302.0, 303.0, 304.0, 334.0, 335.0, 336.0], 304.0: [271.0, 272.0, 273.0, 303.0, 304.0, 305.0, 335.0, 336.0, 337.0], 305.0: [272.0, 273.0, 304.0, 305.0, 336.0, 337.0], 306.0: [273.0, 305.0, 337.0], 315.0: [], 307.0: [], 300.0: [267.0, 268.0, 269.0, 299.0, 300.0, 301.0, 331.0, 332.0, 333.0], 301.0: [268.0, 269.0, 270.0, 300.0, 301.0, 302.0, 332.0, 333.0, 334.0], 299.0: [267.0, 268.0, 299.0, 300.0, 331.0, 332.0], 316.0: [], 288.0: [288.0, 320.0], 334.0: [301.0, 302.0, 303.0, 333.0, 334.0, 335.0, 365.0, 366.0, 367.0], 335.0: [302.0, 303.0, 304.0, 334.0, 335.0, 336.0, 366.0, 367.0, 368.0], 336.0: [303.0, 304.0, 305.0, 335.0, 336.0, 337.0, 367.0, 368.0], 337.0: [304.0, 305.0, 336.0, 337.0, 368.0], 338.0: [305.0, 337.0], 347.0: [], 339.0: [], 332.0: [299.0, 300.0, 301.0, 331.0, 332.0, 333.0, 363.0, 364.0, 365.0], 333.0: [300.0, 301.0, 302.0, 332.0, 333.0, 334.0, 364.0, 365.0, 366.0], 331.0: [299.0, 300.0, 331.0, 332.0, 363.0, 364.0], 348.0: [], 320.0: [288.0, 320.0], 366.0: [333.0, 334.0, 335.0, 365.0, 366.0, 367.0, 397.0, 399.0], 367.0: [334.0, 335.0, 336.0, 366.0, 367.0, 368.0, 399.0, 400.0], 368.0: [335.0, 336.0, 337.0, 367.0, 368.0, 399.0, 400.0], 369.0: [336.0, 337.0, 368.0, 400.0], 370.0: [337.0], 379.0: [], 371.0: [], 364.0: [331.0, 332.0, 333.0, 363.0, 364.0, 365.0, 397.0], 365.0: [332.0, 333.0, 334.0, 364.0, 365.0, 366.0, 397.0], 363.0: [331.0, 332.0, 363.0, 364.0], 380.0: [], 352.0: [320.0], 398.0: [365.0, 366.0, 367.0, 397.0, 399.0], 399.0: [366.0, 367.0, 368.0, 399.0, 400.0], 400.0: [367.0, 368.0, 399.0, 400.0], 401.0: [368.0, 400.0], 402.0: [], 411.0: [], 403.0: [], 396.0: [363.0, 364.0, 365.0, 397.0], 397.0: [364.0, 365.0, 366.0, 397.0], 395.0: [363.0, 364.0], 412.0: [], 384.0: []}\n"
     ]
    }
   ],
   "source": [
    "# iterate through the keys\n",
    "\n",
    "A_dict = {}\n",
    "for i in range(row_coords.shape[0]):\n",
    "    for j in range(col_coords.shape[0]):\n",
    "    \n",
    "        # add these IDs of nonzero pixels as keys to dictionary\n",
    "        key = myfile[3, row_coords[i], col_coords[j]]\n",
    "\n",
    "        # get x and y indices of i-th nonzero pixel\n",
    "        x = col_coords[j]\n",
    "        y = row_coords[i]\n",
    "\n",
    "    #     print(\"x, y\", (x,y))\n",
    "\n",
    "        # look for pixels that are nonzero and adjacent \n",
    "        # define the search range\n",
    "        col_min = x-1\n",
    "        col_max = x+1\n",
    "        row_min = y-1\n",
    "        row_max = y+1\n",
    "\n",
    "    #     print(\"col coords\", col_coords)\n",
    "    #     print(\"row coords\", row_coords)\n",
    "\n",
    "        # the queries for finding values in search range\n",
    "        col_query = (col_coords >= col_min) & (col_coords <= col_max)\n",
    "        row_query = (row_coords >= row_min) & (row_coords <= row_max)\n",
    "\n",
    "    #     all_values_in_col_range = col_coords[col_query]\n",
    "    #     all_values_in_row_range = row_coords[row_query]\n",
    "    #     print(\"all vals col range\", all_values_in_col_range)\n",
    "    #     print(\"all vals row range\", all_values_in_row_range)\n",
    "\n",
    "        # get indices of nonzero entries that fit search criteria for either x or y position\n",
    "        idx_in_col_range = np.where(col_query)\n",
    "        idx_in_row_range = np.where(row_query)\n",
    "\n",
    "    #     print(\"idx in col range\", idx_in_col_range[0].shape)\n",
    "    #     print(\"idx in row range\", idx_in_row_range[0].shape)\n",
    "    #     print(\"idx in col range\", idx_in_col_range)\n",
    "    #     print(\"idx in row range\", idx_in_row_range)\n",
    "\n",
    "        # find the intersection of nonzero entries that fit search criteria for both x and y position\n",
    "        overlap = np.intersect1d(idx_in_col_range, idx_in_row_range)\n",
    "    #     print(\"overlap\", overlap)\n",
    "\n",
    "    #     values_in_col_range = all_values_in_col_range[overlap]\n",
    "    #     values_in_row_range = all_values_in_row_range[overlap]\n",
    "\n",
    "    #     print(\"col values\", values_in_col_range)\n",
    "    #     print(\"row values\", values_in_row_range)\n",
    "\n",
    "        # get row and column indices of nonzero entries that fit both search criteria\n",
    "        common_idx_in_col_range = col_coords[overlap]\n",
    "        common_idx_in_row_range = row_coords[overlap]\n",
    "\n",
    "    #     print(\"col idx\", common_idx_in_col_range)\n",
    "    #     print(\"row idx\", common_idx_in_row_range)\n",
    "\n",
    "        # use row and column indices of nonzero entries to get unique ids\n",
    "        unique_id_in_col_and_row_range = myfile[3, common_idx_in_row_range, common_idx_in_col_range]\n",
    "    #     print(\"unique ids\", unique_id_in_col_and_row_range)\n",
    "\n",
    "        # if there are adjacent pixels, add the unique IDs of those pixels as values to that key\n",
    "        A_dict[key] = list(unique_id_in_col_and_row_range)\n",
    "    #     print(A_dict)\n",
    "    #     break\n",
    "\n",
    "print(A_dict)"
   ]
  },
  {
   "cell_type": "code",
   "execution_count": 36,
   "id": "668a1324-fa90-4b1a-b768-48fdc554e8cc",
   "metadata": {
    "tags": []
   },
   "outputs": [
    {
     "name": "stdout",
     "output_type": "stream",
     "text": [
      "(1024, 1024)\n",
      "[[0. 0. 0. ... 0. 0. 0.]\n",
      " [0. 0. 0. ... 0. 0. 0.]\n",
      " [0. 0. 0. ... 0. 0. 0.]\n",
      " ...\n",
      " [0. 0. 0. ... 0. 0. 0.]\n",
      " [0. 0. 0. ... 0. 0. 0.]\n",
      " [0. 0. 0. ... 0. 0. 0.]]\n"
     ]
    },
    {
     "data": {
      "text/plain": [
       "<matplotlib.colorbar.Colorbar at 0x7f1531266400>"
      ]
     },
     "execution_count": 36,
     "metadata": {},
     "output_type": "execute_result"
    },
    {
     "data": {
      "image/png": "[encoded data removed]",
      "text/plain": [
       "<Figure size 432x288 with 2 Axes>"
      ]
     },
     "metadata": {
      "needs_background": "light"
     },
     "output_type": "display_data"
    }
   ],
   "source": [
    "# convert the A dictionary to tensor\n",
    "A_sparse = sp.dok_matrix((1024,1024))\n",
    "print(A_sparse.shape)\n",
    "for key, values in A_dict.items():\n",
    "#     print(\"key\", key)\n",
    "    for val in values: \n",
    "#         print(\"value\", val)\n",
    "        # get x and y position of unique id\n",
    "#         x = int(np.where(myfile[3,:,:] == val)[0])\n",
    "#         y = int(np.where(myfile[3,:,:] == val)[1])\n",
    "#         print(\"x\", x)\n",
    "#         print(\"y\", y)\n",
    "        A_sparse[key, val] = 1\n",
    "#         print(A_sparse[val, val])\n",
    "    \n",
    "print(A_sparse.todense())\n",
    "A_dense = A_sparse.todense()\n",
    "plt.imshow(A_dense[:400, :400])\n",
    "plt.colorbar()"
   ]
  },
  {
   "cell_type": "code",
   "execution_count": 29,
   "id": "9e83d5dc-4214-4e9e-98a2-810080ff641a",
   "metadata": {},
   "outputs": [
    {
     "name": "stdout",
     "output_type": "stream",
     "text": [
      "<class 'numpy.ndarray'>\n",
      "<class 'numpy.ndarray'>\n",
      "Memory size of numpy array in bytes: 8M\n"
     ]
    }
   ],
   "source": [
    "from hurry.filesize import size\n",
    "print(type(A_dense)) # A_dense is a numpy matrix (not an array?)\n",
    "A_dense = np.asarray(A_dense)\n",
    "print(type(A_dense)) # Now its a numpy array\n",
    "print(\"Memory size of numpy array in bytes:\",\n",
    "      size(A_dense.size * A_dense.itemsize))"
   ]
  },
  {
   "cell_type": "markdown",
   "id": "8c43499a-3945-481a-a2b4-5fea23f44ed1",
   "metadata": {},
   "source": [
    "## Normalize and Make Symmetric the A Matrix"
   ]
  },
  {
   "cell_type": "code",
   "execution_count": 6,
   "id": "9d27ce28-e9ef-48b6-bcd6-07fcfe7de673",
   "metadata": {},
   "outputs": [
    {
     "name": "stdout",
     "output_type": "stream",
     "text": [
      "before transformation\n",
      " [[0 1 0 0]\n",
      " [0 0 1 0]\n",
      " [0 0 0 1]\n",
      " [0 0 0 0]]\n",
      "after transformation\n",
      " [[0 1 0 0]\n",
      " [1 0 1 0]\n",
      " [0 1 0 1]\n",
      " [0 0 1 0]]\n",
      "adj2 before transformation\n",
      " [[0 1 0 0]\n",
      " [0 0 1 0]\n",
      " [0 0 0 1]\n",
      " [0 0 0 0]]\n",
      "adj2 after transformation\n",
      " [[0 1 0 0]\n",
      " [1 0 1 0]\n",
      " [0 1 0 1]\n",
      " [0 0 1 0]]\n"
     ]
    }
   ],
   "source": [
    "# build symmetric adjacency matrix\n",
    "# ref: https://github.com/tkipf/pygcn/issues/3\n",
    "# adj is populated with 0's and 1's\n",
    "# if adj.T > adj then one of those entries is 0\n",
    "# therefore by multiplying them together, we get 0\n",
    "# the + (*) and - (*) terms where * = adj.T.multiply(adj.T > adj)\n",
    "# are for removing directed edges so that we are left with\n",
    "# an UNDIRECTED graph (i.e. edges are bidirectional)\n",
    "# adj = A_dense\n",
    "adj = np.array([[0, 1, 0, 0], [0, 0, 1, 0], [0, 0, 0, 1], [0, 0, 0, 0]])\n",
    "print(\"before transformation\\n\", adj)\n",
    "# adj1 = adj + adj.T @ (adj.T > adj) - adj @ (adj.T > adj)\n",
    "adj1 = adj + np.multiply(adj.T, (adj.T > adj)) - np.multiply(adj, (adj.T > adj))\n",
    "print(\"after transformation\\n\", adj1)\n",
    "\n",
    "# THIS IS THE ORIGINAL SCRIPT - WE MATCH THESE RESULTS\n",
    "adj2 = sp.coo_matrix(adj)\n",
    "print(\"adj2 before transformation\\n\", adj2.todense())\n",
    "adj2 = adj2 + adj2.T.multiply(adj2.T > adj2) - adj2.multiply(adj2.T > adj2)\n",
    "print(\"adj2 after transformation\\n\", adj2.todense())"
   ]
  },
  {
   "cell_type": "code",
   "execution_count": 7,
   "id": "a7a5dff1-2fc7-4c85-a5c8-402f633d404f",
   "metadata": {},
   "outputs": [],
   "source": [
    "# normalize A\n",
    "def normalize(mx):\n",
    "    \"\"\"Row-normalize sparse matrix\"\"\"\n",
    "    rowsum = np.array(mx.sum(1))\n",
    "    r_inv = np.power(rowsum, -1).flatten()\n",
    "    r_inv[np.isinf(r_inv)] = 0.\n",
    "    r_mat_inv = sp.diags(r_inv)\n",
    "    mx = r_mat_inv.dot(mx)\n",
    "    return mx"
   ]
  },
  {
   "cell_type": "code",
   "execution_count": 10,
   "id": "99d718a5-4125-407a-827e-b2b95de80a9c",
   "metadata": {},
   "outputs": [
    {
     "name": "stdout",
     "output_type": "stream",
     "text": [
      "A not normalized\n",
      " [[1. 1. 0. 0.]\n",
      " [1. 1. 1. 0.]\n",
      " [0. 1. 1. 1.]\n",
      " [0. 0. 1. 1.]]\n",
      "rowsum [2. 3. 3. 2.]\n",
      "diagonal rowsum\n",
      " [[2. 0. 0. 0.]\n",
      " [0. 3. 0. 0.]\n",
      " [0. 0. 3. 0.]\n",
      " [0. 0. 0. 2.]]\n",
      "sqrt inverse of D\n",
      " [[0.70710678 0.         0.         0.        ]\n",
      " [0.         0.57735027 0.         0.        ]\n",
      " [0.         0.         0.57735027 0.        ]\n",
      " [0.         0.         0.         0.70710678]]\n",
      "normalized A\n",
      " [[0.5        0.40824829 0.         0.        ]\n",
      " [0.40824829 0.33333333 0.33333333 0.        ]\n",
      " [0.         0.33333333 0.33333333 0.40824829]\n",
      " [0.         0.         0.40824829 0.5       ]]\n",
      "adj2 before normalization\n",
      " [[1. 1. 0. 0.]\n",
      " [1. 1. 1. 0.]\n",
      " [0. 1. 1. 1.]\n",
      " [0. 0. 1. 1.]]\n",
      "adj2 after normalization\n",
      " [[0.5        0.5        0.         0.        ]\n",
      " [0.33333333 0.33333333 0.33333333 0.        ]\n",
      " [0.         0.33333333 0.33333333 0.33333333]\n",
      " [0.         0.         0.5        0.5       ]]\n"
     ]
    }
   ],
   "source": [
    "A = adj1\n",
    "\n",
    "# add 1's along the diagonal of A\n",
    "A = A + np.eye(A.shape[0])\n",
    "print(\"A not normalized\\n\", A)\n",
    "\n",
    "rowsum = A.sum(axis=0)\n",
    "print(\"rowsum\", rowsum)\n",
    "D = np.diagflat(rowsum)\n",
    "print(\"diagonal rowsum\\n\", D)\n",
    "D_inv = np.linalg.inv(sqrtm(D))\n",
    "# D_inv = np.linalg.inv(D)\n",
    "\n",
    "print(\"sqrt inverse of D\\n\", D_inv)\n",
    "A_tilde = D_inv.T @ A @ D_inv\n",
    "# A_tilde = np.dot(D_inv, A)\n",
    "print(\"normalized A\\n\", A_tilde)\n",
    "\n",
    "\n",
    "# COMPARE AGAINST THE ORIGINAL PAPER'S RESULTS\n",
    "adj3 = adj2 + sp.eye(adj2.shape[0])\n",
    "print(\"adj2 before normalization\\n\", adj3.todense())\n",
    "adj3_tilde = normalize(adj3)\n",
    "print(\"adj2 after normalization\\n\", adj3_tilde.todense())\n",
    "\n"
   ]
  },
  {
   "cell_type": "code",
   "execution_count": 20,
   "id": "4759fd84-4559-41fb-ba71-ae48859dfeb6",
   "metadata": {},
   "outputs": [],
   "source": [
    "def preprocess_graph(adj):\n",
    "    adj = sp.coo_matrix(adj)\n",
    "    adj_ = adj + sp.eye(adj.shape[0])\n",
    "    rowsum = np.array(adj_.sum(1))\n",
    "    degree_mat_inv_sqrt = sp.diags(np.power(rowsum, -0.5).flatten())\n",
    "    adj_normalized = adj_.dot(degree_mat_inv_sqrt).transpose().dot(degree_mat_inv_sqrt).tocoo()\n",
    "    return adj_normalized.todense()"
   ]
  },
  {
   "cell_type": "code",
   "execution_count": 14,
   "id": "b94e6207-8e9e-4f5c-b0e2-78cbbfcbfa8a",
   "metadata": {},
   "outputs": [],
   "source": [
    "def sparse_to_tuple(sparse_mx):\n",
    "    if not sp.isspmatrix_coo(sparse_mx):\n",
    "        sparse_mx = sparse_mx.tocoo()\n",
    "    coords = np.vstack((sparse_mx.row, sparse_mx.col)).transpose()\n",
    "    values = sparse_mx.data\n",
    "    shape = sparse_mx.shape\n",
    "    return coords, values, shape"
   ]
  },
  {
   "cell_type": "code",
   "execution_count": 21,
   "id": "fda1fcef-1a75-416f-b49e-c6b13d145589",
   "metadata": {},
   "outputs": [
    {
     "name": "stdout",
     "output_type": "stream",
     "text": [
      "[[0.5        0.40824829 0.         0.        ]\n",
      " [0.40824829 0.33333333 0.33333333 0.        ]\n",
      " [0.         0.33333333 0.33333333 0.40824829]\n",
      " [0.         0.         0.40824829 0.5       ]]\n"
     ]
    }
   ],
   "source": [
    "# MY RESULTS MATCH VGAE_PYTORCH REPO, I'M GOING TO PROCEED WITH THIS BECAUSE ITS THE MATHEMATICALLY CORRECT DEFINITION\n",
    "adj2_tilde = preprocess_graph(adj2)\n",
    "print(adj2_tilde)"
   ]
  },
  {
   "cell_type": "markdown",
   "id": "a4a7c728-886a-4275-bafc-b7b46d762b25",
   "metadata": {},
   "source": [
    "### TODO\n",
    "- [ ] Are the GCN layers presented here the same as in the GVAE repo? \n",
    "- [ ] implement the GCN layers\n",
    "- [ ] implement the encoder and decoder\n",
    "- [ ] implement the training loop\n",
    "- [ ] generate my own graphs\n",
    "\n",
    "### Conceptual Questions: \n",
    "- [ ] this works on one large graph - how would I train on lots of smaller graphs? \n",
    "- [ ] why does gVAE worry about graph rotational invariance but I do not with GVAE? "
   ]
  }
 ],
 "metadata": {
  "kernelspec": {
   "display_name": "Python [conda env:glm_env]",
   "language": "python",
   "name": "conda-env-glm_env-py"
  },
  "language_info": {
   "codemirror_mode": {
    "name": "ipython",
    "version": 3
   },
   "file_extension": ".py",
   "mimetype": "text/x-python",
   "name": "python",
   "nbconvert_exporter": "python",
   "pygments_lexer": "ipython3",
   "version": "3.9.5"
  }
 },
 "nbformat": 4,
 "nbformat_minor": 5
}
