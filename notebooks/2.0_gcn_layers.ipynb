{
 "cells": [
  {
   "cell_type": "markdown",
   "id": "de4fc9ec-a0e4-4d69-af96-68475bd9e28d",
   "metadata": {},
   "source": [
    "# Getting the Correct GCN Layers\n",
    "\n",
    "Both the pygcn and gvae repos have implementations of the GCN layer, I want to see if they are both the same and how they work.\n",
    "\n",
    "Update: I think they are both the same. \n",
    "\n",
    "Let's implement this one step at a time and understand the math along the way. "
   ]
  }
 ],
 "metadata": {
  "kernelspec": {
   "display_name": "Python [conda env:glm_env]",
   "language": "python",
   "name": "conda-env-glm_env-py"
  },
  "language_info": {
   "codemirror_mode": {
    "name": "ipython",
    "version": 3
   },
   "file_extension": ".py",
   "mimetype": "text/x-python",
   "name": "python",
   "nbconvert_exporter": "python",
   "pygments_lexer": "ipython3",
   "version": "3.9.5"
  }
 },
 "nbformat": 4,
 "nbformat_minor": 5
}
