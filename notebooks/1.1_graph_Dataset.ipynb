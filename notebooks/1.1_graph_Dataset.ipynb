{
 "cells": [
  {
   "cell_type": "markdown",
   "id": "bf67fd50-4ad8-467d-810a-7ce439695321",
   "metadata": {},
   "source": [
    "# Graph Dataset Class and Transforms Classes\n",
    "\n",
    "Author: Emma Benjaminson\n",
    "\n",
    "The goal of this notebook is to define a Dataset class for importing numpy image files and converting them to A and X matrices. "
   ]
  },
  {
   "cell_type": "markdown",
   "id": "65ba4bfa-c42a-4862-a3a5-5447c994c5a9",
   "metadata": {},
   "source": [
    "## Transforms"
   ]
  },
  {
   "cell_type": "code",
   "execution_count": 47,
   "id": "0be428f1-ed82-46ac-bc55-a4bbc5c2e09e",
   "metadata": {},
   "outputs": [],
   "source": [
    "import numpy as np\n",
    "import scipy.sparse as sp\n",
    "from scipy.linalg import sqrtm\n",
    "import torch\n",
    "import matplotlib.pyplot as plt\n",
    "from torchvision import transforms\n",
    "from torch.utils.data import Dataset\n",
    "import time as time\n",
    "import os\n",
    "from torch.utils.data import DataLoader"
   ]
  },
  {
   "cell_type": "code",
   "execution_count": 34,
   "id": "5aa36524-87b3-4fb0-a83a-82a18ddb3f61",
   "metadata": {},
   "outputs": [],
   "source": [
    "class Img2Graph(object):\n",
    "    def __init__(self):\n",
    "        pass\n",
    "\n",
    "    def __call__(self, sample): # a sample is one image\n",
    "        \n",
    "        # add a channel that assigns a unique ID to every pixel\n",
    "        sample = self._add_unique_ids(sample)\n",
    "        \n",
    "        # find the IDs of the nonzero pixels \n",
    "        # idx_nonzero is a tuple of length 2, each entry in the tuple is the list of coordinates in one dimension\n",
    "        idx_nonzero = np.nonzero(sample[0,:,:])\n",
    "        row_coords = idx_nonzero[0]\n",
    "        col_coords = idx_nonzero[1]\n",
    "\n",
    "        # add the 3 channels of data for these nonzero pixels to a matrix for X\n",
    "        X = self._build_X(sample, row_coords, col_coords)\n",
    "\n",
    "        A_dict = self._build_A_dict(sample, row_coords, col_coords)\n",
    "        \n",
    "        A = self._convert_to_matrix(sample, A_dict)\n",
    "        \n",
    "        A = self._make_A_symmetric(A)\n",
    "        \n",
    "        A_tilde = self._normalize(A)\n",
    "        \n",
    "        return X, A_tilde\n",
    "    \n",
    "    def _add_unique_ids(self, sample):\n",
    "        hei = sample.shape[1]\n",
    "        wid = sample.shape[2]\n",
    "\n",
    "        num_pixels = hei * wid\n",
    "        id_array = np.ones((hei*wid,))\n",
    "        for i in range(num_pixels):\n",
    "            id_array[i] = i \n",
    "        id_array = id_array.reshape((1, hei, wid))\n",
    "\n",
    "        # add unique indices as 4th channel\n",
    "        sample = np.concatenate((sample, id_array), axis=0)\n",
    "        return sample\n",
    "\n",
    "    def _build_X(self, sample, row_coords, col_coords):\n",
    "        num_features = sample.shape[0]-1 # -1 because one of the channels is just a unique id we assigned\n",
    "        X = np.zeros((sample.shape[1]*sample.shape[2], num_features)) \n",
    "        nonzero_entries = []\n",
    "        \n",
    "        for i in range(row_coords.shape[0]):\n",
    "            key = int(sample[3, row_coords[i], col_coords[i]])\n",
    "            X[key, :] = sample[:3, row_coords[i], col_coords[i]]\n",
    "            \n",
    "        return X\n",
    "    \n",
    "    def _build_A_dict(self, sample, row_coords, col_coords):\n",
    "        A_dict = {}\n",
    "        for i in range(row_coords.shape[0]):\n",
    "\n",
    "            # add these IDs of nonzero pixels as keys to dictionary\n",
    "            key = sample[3, row_coords[i], col_coords[i]]\n",
    "\n",
    "            # get x and y indices of i-th nonzero pixel\n",
    "            x = col_coords[i]\n",
    "            y = row_coords[i]\n",
    "\n",
    "            # look for pixels that are nonzero and adjacent \n",
    "            # define the search range\n",
    "            col_min = x-1\n",
    "            col_max = x+1\n",
    "            row_min = y-1\n",
    "            row_max = y+1\n",
    "\n",
    "            # the queries for finding values in search range\n",
    "            col_query = (col_coords >= col_min) & (col_coords <= col_max)\n",
    "            row_query = (row_coords >= row_min) & (row_coords <= row_max)\n",
    "\n",
    "            # get indices of nonzero entries that fit search criteria for either x or y position\n",
    "            idx_in_col_range = np.where(col_query)\n",
    "            idx_in_row_range = np.where(row_query)\n",
    "\n",
    "            # find the intersection of nonzero entries that fit search criteria for both x and y position\n",
    "            overlap = np.intersect1d(idx_in_col_range, idx_in_row_range)\n",
    "\n",
    "            # get row and column indices of nonzero entries that fit both search criteria\n",
    "            common_idx_in_col_range = col_coords[overlap]\n",
    "            common_idx_in_row_range = row_coords[overlap]\n",
    "\n",
    "            # use row and column indices of nonzero entries to get unique ids\n",
    "            unique_id_in_col_and_row_range = sample[3, common_idx_in_row_range, common_idx_in_col_range]\n",
    "\n",
    "            # if there are adjacent pixels, add the unique IDs of those pixels as values to that key\n",
    "            A_dict[key] = list(unique_id_in_col_and_row_range)\n",
    "\n",
    "        return A_dict\n",
    "    \n",
    "    def _convert_to_matrix(self, sample, A_dict):\n",
    "        # convert the A dictionary to tensor\n",
    "        A_sparse = sp.dok_matrix((sample.shape[1], sample.shape[2]))\n",
    "        for key, values in A_dict.items():\n",
    "            for val in values: \n",
    "                # get x and y position of unique id\n",
    "                x = int(np.where(sample[3,:,:] == val)[0])\n",
    "                y = int(np.where(sample[3,:,:] == val)[1])\n",
    "                A_sparse[x, y] = 1\n",
    "\n",
    "        A_dense = np.asarray(A_sparse.todense())\n",
    "        return A_dense\n",
    "    \n",
    "    def _make_A_symmetric(self, A):\n",
    "        # build symmetric adjacency matrix\n",
    "        # ref: https://github.com/tkipf/pygcn/issues/3\n",
    "        # adj is populated with 0's and 1's\n",
    "        # if adj.T > adj then one of those entries is 0\n",
    "        # therefore by multiplying them together, we get 0\n",
    "        # the + (*) and - (*) terms where * = adj.T.multiply(adj.T > adj)\n",
    "        # are for removing directed edges so that we are left with\n",
    "        # an UNDIRECTED graph (i.e. edges are bidirectional)\n",
    "        A = A + np.multiply(A.T, (A.T > A)) - np.multiply(A, (A.T > A))\n",
    "        \n",
    "        # add 1's along the diagonal of A\n",
    "        A = A + np.eye(A.shape[0])\n",
    "        return A\n",
    "    \n",
    "    def _normalize(self, A):\n",
    "        rowsum = A.sum(axis=0)\n",
    "        D = np.diagflat(rowsum)\n",
    "        D_inv = np.linalg.inv(sqrtm(D))\n",
    "        A_tilde = D_inv.T @ A @ D_inv\n",
    "        return A_tilde\n"
   ]
  },
  {
   "cell_type": "code",
   "execution_count": 35,
   "id": "a150d227-c62b-4a8a-a323-255c93a7883c",
   "metadata": {},
   "outputs": [
    {
     "name": "stdout",
     "output_type": "stream",
     "text": [
      "(3, 32, 32)\n"
     ]
    }
   ],
   "source": [
    "input_dir = \"/mnt/resource/staging/patched/smoke_data_sa_all/flattened_filtered_data/intensity_all\" # this dir contains 75_386 samples!\n",
    "filename = \"xmin_0500_xmax_0532_ymin_0500_ymax_0532_t00001.npy\"\n",
    "myfile = np.load(\"{}/{}\".format(input_dir, filename))\n",
    "print(myfile.shape)"
   ]
  },
  {
   "cell_type": "code",
   "execution_count": 36,
   "id": "201f1e27-3419-400a-ac8a-4eca4451fb2a",
   "metadata": {},
   "outputs": [
    {
     "data": {
      "text/plain": [
       "<matplotlib.colorbar.Colorbar at 0x7f8948389fd0>"
      ]
     },
     "execution_count": 36,
     "metadata": {},
     "output_type": "execute_result"
    },
    {
     "data": {
      "image/png": "[encoded data removed]",
      "text/plain": [
       "<Figure size 432x288 with 2 Axes>"
      ]
     },
     "metadata": {
      "needs_background": "light"
     },
     "output_type": "display_data"
    }
   ],
   "source": [
    "transform = Img2Graph()\n",
    "X, A_tilde = transform(myfile)\n",
    "plt.imshow(A_tilde)\n",
    "plt.colorbar()"
   ]
  },
  {
   "cell_type": "markdown",
   "id": "f79c3334-4b46-4d32-bca4-1800b768da95",
   "metadata": {},
   "source": [
    "## Dataset Class"
   ]
  },
  {
   "cell_type": "code",
   "execution_count": 77,
   "id": "93aceb5b-fc46-40b2-b735-73ae6bf76008",
   "metadata": {},
   "outputs": [],
   "source": [
    "# Reads npy data\n",
    "class DatasetGraph(Dataset):\n",
    "    def __init__(\n",
    "        self,\n",
    "        input_dir,\n",
    "        annotations_dir=None,\n",
    "        transform=None,\n",
    "        target_transform=None,\n",
    "    ):\n",
    "        start = time.time()\n",
    "        self.input_dir = input_dir\n",
    "        self.annotations_dir = annotations_dir\n",
    "        # transformation is Identity transformation if transformation is None.\n",
    "        self.transform = (lambda x: x) if transform is None else transform\n",
    "        self.target_transform = target_transform\n",
    "        self.input_files = sorted(os.listdir(self.input_dir))\n",
    "\n",
    "    def __len__(self):\n",
    "        return len(self.input_files)\n",
    "\n",
    "    def __getitem__(self, idx):\n",
    "        input_path = os.path.join(self.input_dir, self.input_files[idx])\n",
    "        input_X = torch.from_numpy(np.load(input_path))\n",
    "        \n",
    "        if len(input_X.shape) == 2:\n",
    "            input_X = input_X.unsqueeze(axis=0)\n",
    "        \n",
    "        if self.transform:\n",
    "            X, A_tilde = self.transform(input_X)\n",
    "\n",
    "        # Ground truth if exists - we might use L1-ish data\n",
    "        if self.annotations_dir is not None:\n",
    "            annotations_path = os.path.join(\n",
    "                self.annotations_dir, os.listdir(self.annotations_dir)[idx]\n",
    "            )\n",
    "            input_y = torch.load(annotations_path)\n",
    "        elif input_X.shape[-1] == 6:\n",
    "            input_y = input_X[:, :, :, -1]\n",
    "        else:\n",
    "            input_y = -1  # not using input_y\n",
    "\n",
    "        return A_tilde, X, input_y # TODO: HOW TO EXPORT FEATURE MATRIX TOO?"
   ]
  },
  {
   "cell_type": "code",
   "execution_count": 78,
   "id": "a9d889ac-ef7a-4a65-90de-1a2920bc6de0",
   "metadata": {},
   "outputs": [],
   "source": [
    "graph_dataset = DatasetGraph(input_dir=input_dir, transform=Img2Graph())"
   ]
  },
  {
   "cell_type": "code",
   "execution_count": 79,
   "id": "3dacc3f1-a981-4135-b9de-dd4112a68b23",
   "metadata": {},
   "outputs": [
    {
     "data": {
      "text/plain": [
       "<matplotlib.colorbar.Colorbar at 0x7f892c89aeb0>"
      ]
     },
     "execution_count": 79,
     "metadata": {},
     "output_type": "execute_result"
    },
    {
     "data": {
      "image/png": "[encoded data removed]",
      "text/plain": [
       "<Figure size 432x288 with 2 Axes>"
      ]
     },
     "metadata": {
      "needs_background": "light"
     },
     "output_type": "display_data"
    }
   ],
   "source": [
    "rand_sample_num = 13\n",
    "plt.imshow(graph_dataset[rand_sample_num][0])\n",
    "plt.colorbar()"
   ]
  },
  {
   "cell_type": "markdown",
   "id": "dd19c87d-fd9c-43f3-9c64-660714239363",
   "metadata": {},
   "source": [
    "## DataLoader Class"
   ]
  },
  {
   "cell_type": "code",
   "execution_count": 80,
   "id": "88189c5a-c805-446a-a1c1-0e528348df80",
   "metadata": {},
   "outputs": [],
   "source": [
    "train_size = 50_000\n",
    "train_ds, val_ds = torch.utils.data.random_split(graph_dataset, [train_size, len(graph_dataset)-train_size])\n",
    "batch_size = 32\n",
    "train_dl = DataLoader(train_ds, batch_size=batch_size, shuffle=True, num_workers=8, pin_memory=True) # TODO: look for speedups i.e. pin memory? num_workers = # cpus\n",
    "val_dl = DataLoader(val_ds, batch_size=batch_size, shuffle=False, num_workers=8, pin_memory=True)"
   ]
  },
  {
   "cell_type": "code",
   "execution_count": 81,
   "id": "6fa07d42-42b4-4031-b0e0-3c8fb094b87e",
   "metadata": {},
   "outputs": [
    {
     "name": "stdout",
     "output_type": "stream",
     "text": [
      "<class 'torch.utils.data.dataset.Subset'>\n",
      "50000\n"
     ]
    }
   ],
   "source": [
    "print(type(train_ds))\n",
    "print(len(train_ds))"
   ]
  },
  {
   "cell_type": "code",
   "execution_count": 82,
   "id": "10a45839-483c-48ea-ad45-0d683932e80e",
   "metadata": {},
   "outputs": [],
   "source": [
    "for data in train_dl:\n",
    "    break"
   ]
  },
  {
   "cell_type": "code",
   "execution_count": 84,
   "id": "01b52401-c229-4c1e-bc58-a6cca6dc1046",
   "metadata": {},
   "outputs": [
    {
     "name": "stdout",
     "output_type": "stream",
     "text": [
      "3\n",
      "torch.Size([32, 32, 32])\n",
      "torch.Size([32, 1024, 3])\n",
      "torch.Size([32])\n"
     ]
    },
    {
     "data": {
      "text/plain": [
       "<matplotlib.colorbar.Colorbar at 0x7f892da90250>"
      ]
     },
     "execution_count": 84,
     "metadata": {},
     "output_type": "execute_result"
    },
    {
     "data": {
      "image/png": "[encoded data removed]",
      "text/plain": [
       "<Figure size 432x288 with 2 Axes>"
      ]
     },
     "metadata": {
      "needs_background": "light"
     },
     "output_type": "display_data"
    }
   ],
   "source": [
    "print(len(data))\n",
    "print(data[0].shape) # A_tilde\n",
    "print(data[1].shape) # X\n",
    "print(data[2].shape) # input_y\n",
    "\n",
    "# print(data[1])\n",
    "sample_num = 14\n",
    "plt.imshow(data[0][sample_num,:,:])\n",
    "plt.colorbar()"
   ]
  }
 ],
 "metadata": {
  "kernelspec": {
   "display_name": "Python [conda env:glm_env]",
   "language": "python",
   "name": "conda-env-glm_env-py"
  },
  "language_info": {
   "codemirror_mode": {
    "name": "ipython",
    "version": 3
   },
   "file_extension": ".py",
   "mimetype": "text/x-python",
   "name": "python",
   "nbconvert_exporter": "python",
   "pygments_lexer": "ipython3",
   "version": "3.9.5"
  }
 },
 "nbformat": 4,
 "nbformat_minor": 5
}
